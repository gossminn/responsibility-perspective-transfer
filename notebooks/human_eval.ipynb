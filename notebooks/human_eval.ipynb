{
 "cells": [
  {
   "cell_type": "code",
   "execution_count": 1,
   "metadata": {},
   "outputs": [
    {
     "data": {
      "text/html": [
       "<div>\n",
       "<style scoped>\n",
       "    .dataframe tbody tr th:only-of-type {\n",
       "        vertical-align: middle;\n",
       "    }\n",
       "\n",
       "    .dataframe tbody tr th {\n",
       "        vertical-align: top;\n",
       "    }\n",
       "\n",
       "    .dataframe thead th {\n",
       "        text-align: right;\n",
       "    }\n",
       "</style>\n",
       "<table border=\"1\" class=\"dataframe\">\n",
       "  <thead>\n",
       "    <tr style=\"text-align: right;\">\n",
       "      <th></th>\n",
       "      <th>block_id</th>\n",
       "      <th>user_id</th>\n",
       "      <th>model</th>\n",
       "      <th>category</th>\n",
       "      <th>sentence</th>\n",
       "      <th>score</th>\n",
       "    </tr>\n",
       "  </thead>\n",
       "  <tbody>\n",
       "    <tr>\n",
       "      <th>0</th>\n",
       "      <td>0</td>\n",
       "      <td>0</td>\n",
       "      <td>gpt3_CFSLH-B_hum_eval.predictions.txt</td>\n",
       "      <td>perspective</td>\n",
       "      <td>`` Con Ashley muore un'altra vittima innocente...</td>\n",
       "      <td>0</td>\n",
       "    </tr>\n",
       "    <tr>\n",
       "      <th>1</th>\n",
       "      <td>0</td>\n",
       "      <td>1</td>\n",
       "      <td>gpt3_CFSLH-B_hum_eval.predictions.txt</td>\n",
       "      <td>perspective</td>\n",
       "      <td>`` Con Ashley muore un'altra vittima innocente...</td>\n",
       "      <td>2</td>\n",
       "    </tr>\n",
       "    <tr>\n",
       "      <th>2</th>\n",
       "      <td>0</td>\n",
       "      <td>2</td>\n",
       "      <td>gpt3_CFSLH-B_hum_eval.predictions.txt</td>\n",
       "      <td>perspective</td>\n",
       "      <td>`` Con Ashley muore un'altra vittima innocente...</td>\n",
       "      <td>1</td>\n",
       "    </tr>\n",
       "    <tr>\n",
       "      <th>3</th>\n",
       "      <td>0</td>\n",
       "      <td>3</td>\n",
       "      <td>gpt3_CFSLH-B_hum_eval.predictions.txt</td>\n",
       "      <td>perspective</td>\n",
       "      <td>`` Con Ashley muore un'altra vittima innocente...</td>\n",
       "      <td>8</td>\n",
       "    </tr>\n",
       "    <tr>\n",
       "      <th>4</th>\n",
       "      <td>0</td>\n",
       "      <td>0</td>\n",
       "      <td>mbart_info_src_sh.txt</td>\n",
       "      <td>perspective</td>\n",
       "      <td>Un uomo di origini africane , Cheik Tidiane , ...</td>\n",
       "      <td>4</td>\n",
       "    </tr>\n",
       "    <tr>\n",
       "      <th>...</th>\n",
       "      <td>...</td>\n",
       "      <td>...</td>\n",
       "      <td>...</td>\n",
       "      <td>...</td>\n",
       "      <td>...</td>\n",
       "      <td>...</td>\n",
       "    </tr>\n",
       "    <tr>\n",
       "      <th>2787</th>\n",
       "      <td>49</td>\n",
       "      <td>3</td>\n",
       "      <td>gpt3_0SLH_hum_eval.predictions.txt</td>\n",
       "      <td>similarity</td>\n",
       "      <td>Uccide la moglie mentre dormiva : fiaccolata a...</td>\n",
       "      <td>7</td>\n",
       "    </tr>\n",
       "    <tr>\n",
       "      <th>2788</th>\n",
       "      <td>49</td>\n",
       "      <td>0</td>\n",
       "      <td>mbart_src_info_sh.txt</td>\n",
       "      <td>similarity</td>\n",
       "      <td>Raccogliamo la fiaccola per le donne uccise da...</td>\n",
       "      <td>0</td>\n",
       "    </tr>\n",
       "    <tr>\n",
       "      <th>2789</th>\n",
       "      <td>49</td>\n",
       "      <td>1</td>\n",
       "      <td>mbart_src_info_sh.txt</td>\n",
       "      <td>similarity</td>\n",
       "      <td>Raccogliamo la fiaccola per le donne uccise da...</td>\n",
       "      <td>5</td>\n",
       "    </tr>\n",
       "    <tr>\n",
       "      <th>2790</th>\n",
       "      <td>49</td>\n",
       "      <td>2</td>\n",
       "      <td>mbart_src_info_sh.txt</td>\n",
       "      <td>similarity</td>\n",
       "      <td>Raccogliamo la fiaccola per le donne uccise da...</td>\n",
       "      <td>0</td>\n",
       "    </tr>\n",
       "    <tr>\n",
       "      <th>2791</th>\n",
       "      <td>49</td>\n",
       "      <td>3</td>\n",
       "      <td>mbart_src_info_sh.txt</td>\n",
       "      <td>similarity</td>\n",
       "      <td>Raccogliamo la fiaccola per le donne uccise da...</td>\n",
       "      <td>5</td>\n",
       "    </tr>\n",
       "  </tbody>\n",
       "</table>\n",
       "<p>2792 rows × 6 columns</p>\n",
       "</div>"
      ],
      "text/plain": [
       "      block_id  user_id                                  model     category  \\\n",
       "0            0        0  gpt3_CFSLH-B_hum_eval.predictions.txt  perspective   \n",
       "1            0        1  gpt3_CFSLH-B_hum_eval.predictions.txt  perspective   \n",
       "2            0        2  gpt3_CFSLH-B_hum_eval.predictions.txt  perspective   \n",
       "3            0        3  gpt3_CFSLH-B_hum_eval.predictions.txt  perspective   \n",
       "4            0        0                  mbart_info_src_sh.txt  perspective   \n",
       "...        ...      ...                                    ...          ...   \n",
       "2787        49        3     gpt3_0SLH_hum_eval.predictions.txt   similarity   \n",
       "2788        49        0                  mbart_src_info_sh.txt   similarity   \n",
       "2789        49        1                  mbart_src_info_sh.txt   similarity   \n",
       "2790        49        2                  mbart_src_info_sh.txt   similarity   \n",
       "2791        49        3                  mbart_src_info_sh.txt   similarity   \n",
       "\n",
       "                                               sentence  score  \n",
       "0     `` Con Ashley muore un'altra vittima innocente...      0  \n",
       "1     `` Con Ashley muore un'altra vittima innocente...      2  \n",
       "2     `` Con Ashley muore un'altra vittima innocente...      1  \n",
       "3     `` Con Ashley muore un'altra vittima innocente...      8  \n",
       "4     Un uomo di origini africane , Cheik Tidiane , ...      4  \n",
       "...                                                 ...    ...  \n",
       "2787  Uccide la moglie mentre dormiva : fiaccolata a...      7  \n",
       "2788  Raccogliamo la fiaccola per le donne uccise da...      0  \n",
       "2789  Raccogliamo la fiaccola per le donne uccise da...      5  \n",
       "2790  Raccogliamo la fiaccola per le donne uccise da...      0  \n",
       "2791  Raccogliamo la fiaccola per le donne uccise da...      5  \n",
       "\n",
       "[2792 rows x 6 columns]"
      ]
     },
     "execution_count": 1,
     "metadata": {},
     "output_type": "execute_result"
    }
   ],
   "source": [
    "REPO_DIR = \"...\"\n",
    "\n",
    "import os\n",
    "import pandas as pd\n",
    "os.chdir(REPO_DIR)\n",
    "responses = pd.read_csv(\"output/questionnaire/responses.processed.group_1.csv\", index_col=0)\n",
    "responses"
   ]
  },
  {
   "attachments": {},
   "cell_type": "markdown",
   "metadata": {},
   "source": [
    "### Mean scores"
   ]
  },
  {
   "cell_type": "code",
   "execution_count": 2,
   "metadata": {},
   "outputs": [
    {
     "name": "stdout",
     "output_type": "stream",
     "text": [
      "                                          score\n",
      "model                                          \n",
      "gpt3_0SLH_hum_eval.predictions.txt     2.770000\n",
      "gpt3_CFSLH-B_hum_eval.predictions.txt  3.840000\n",
      "gpt3_CFSLH_hum_eval.predictions.txt    3.570000\n",
      "gpt3_FSLH_hum_eval.predictions.txt     2.076531\n",
      "mbart_info_src_sh.txt                  4.500000\n",
      "mbart_src_info_sh.txt                  2.500000\n",
      "mbart_unsupervised.txt                 2.135000\n"
     ]
    },
    {
     "data": {
      "text/plain": [
       "<AxesSubplot:xlabel='model'>"
      ]
     },
     "execution_count": 2,
     "metadata": {},
     "output_type": "execute_result"
    },
    {
     "data": {
      "image/png": "[encoded data removed]",
      "text/plain": [
       "<Figure size 432x288 with 1 Axes>"
      ]
     },
     "metadata": {
      "needs_background": "light"
     },
     "output_type": "display_data"
    }
   ],
   "source": [
    "persp_mean = (\n",
    "    responses[responses[\"category\"] == \"perspective\"]\n",
    "    .groupby(\"model\")\n",
    "    .agg({\"score\": \"mean\"})\n",
    ")\n",
    "\n",
    "print(persp_mean)\n",
    "\n",
    "persp_mean.plot.bar()"
   ]
  },
  {
   "cell_type": "code",
   "execution_count": 3,
   "metadata": {},
   "outputs": [
    {
     "name": "stdout",
     "output_type": "stream",
     "text": [
      "                                          score\n",
      "model                                          \n",
      "gpt3_0SLH_hum_eval.predictions.txt     6.515000\n",
      "gpt3_CFSLH-B_hum_eval.predictions.txt  6.595000\n",
      "gpt3_CFSLH_hum_eval.predictions.txt    7.965000\n",
      "gpt3_FSLH_hum_eval.predictions.txt     8.173469\n",
      "mbart_info_src_sh.txt                  3.615000\n",
      "mbart_src_info_sh.txt                  6.780000\n",
      "mbart_unsupervised.txt                 7.715000\n"
     ]
    },
    {
     "data": {
      "text/plain": [
       "<AxesSubplot:xlabel='model'>"
      ]
     },
     "execution_count": 3,
     "metadata": {},
     "output_type": "execute_result"
    },
    {
     "data": {
      "image/png": "[encoded data removed]",
      "text/plain": [
       "<Figure size 432x288 with 1 Axes>"
      ]
     },
     "metadata": {
      "needs_background": "light"
     },
     "output_type": "display_data"
    }
   ],
   "source": [
    "sim_mean = (\n",
    "    responses[responses[\"category\"] == \"similarity\"]\n",
    "    .groupby(\"model\")\n",
    "    .agg({\"score\": \"mean\"})\n",
    ")\n",
    "\n",
    "print(sim_mean)\n",
    "\n",
    "sim_mean.plot.bar()"
   ]
  },
  {
   "attachments": {},
   "cell_type": "markdown",
   "metadata": {},
   "source": [
    "### Agreement"
   ]
  },
  {
   "cell_type": "code",
   "execution_count": 4,
   "metadata": {},
   "outputs": [
    {
     "data": {
      "text/plain": [
       "<AxesSubplot:xlabel='model'>"
      ]
     },
     "execution_count": 4,
     "metadata": {},
     "output_type": "execute_result"
    },
    {
     "data": {
      "image/png": "[encoded data removed]",
      "text/plain": [
       "<Figure size 432x288 with 1 Axes>"
      ]
     },
     "metadata": {
      "needs_background": "light"
     },
     "output_type": "display_data"
    }
   ],
   "source": [
    "(\n",
    "    responses[responses[\"category\"] == \"perspective\"]\n",
    "    .groupby(\"model\")\n",
    "    .agg({\"score\": \"std\"})\n",
    "    .plot.bar()\n",
    ")"
   ]
  },
  {
   "cell_type": "code",
   "execution_count": 5,
   "metadata": {},
   "outputs": [
    {
     "data": {
      "text/plain": [
       "<AxesSubplot:xlabel='model'>"
      ]
     },
     "execution_count": 5,
     "metadata": {},
     "output_type": "execute_result"
    },
    {
     "data": {
      "image/png": "[encoded data removed]",
      "text/plain": [
       "<Figure size 432x288 with 1 Axes>"
      ]
     },
     "metadata": {
      "needs_background": "light"
     },
     "output_type": "display_data"
    }
   ],
   "source": [
    "(\n",
    "    responses[responses[\"category\"] == \"similarity\"]\n",
    "    .groupby(\"model\")\n",
    "    .agg({\"score\": \"std\"})\n",
    "    .plot.bar()\n",
    ")"
   ]
  },
  {
   "cell_type": "code",
   "execution_count": 6,
   "metadata": {},
   "outputs": [],
   "source": [
    "from scipy import stats"
   ]
  },
  {
   "cell_type": "code",
   "execution_count": 7,
   "metadata": {},
   "outputs": [
    {
     "data": {
      "text/plain": [
       "<AxesSubplot:xlabel='user_id'>"
      ]
     },
     "execution_count": 7,
     "metadata": {},
     "output_type": "execute_result"
    },
    {
     "data": {
      "image/png": "[encoded data removed]",
      "text/plain": [
       "<Figure size 432x288 with 1 Axes>"
      ]
     },
     "metadata": {
      "needs_background": "light"
     },
     "output_type": "display_data"
    }
   ],
   "source": [
    "(\n",
    "    responses[responses[\"category\"] == \"perspective\"]\n",
    "    .groupby(\"user_id\")\n",
    "    .agg({\"score\": \"mean\"})\n",
    "    .plot.bar()\n",
    ")"
   ]
  },
  {
   "cell_type": "code",
   "execution_count": 8,
   "metadata": {},
   "outputs": [
    {
     "data": {
      "text/plain": [
       "<AxesSubplot:xlabel='user_id'>"
      ]
     },
     "execution_count": 8,
     "metadata": {},
     "output_type": "execute_result"
    },
    {
     "data": {
      "image/png": "[encoded data removed]",
      "text/plain": [
       "<Figure size 432x288 with 1 Axes>"
      ]
     },
     "metadata": {
      "needs_background": "light"
     },
     "output_type": "display_data"
    }
   ],
   "source": [
    "(\n",
    "    responses[responses[\"category\"] == \"similarity\"]\n",
    "    .groupby(\"user_id\")\n",
    "    .agg({\"score\": \"mean\"})\n",
    "    .plot.bar()\n",
    ")"
   ]
  },
  {
   "attachments": {},
   "cell_type": "markdown",
   "metadata": {},
   "source": [
    "#### Perspective scores"
   ]
  },
  {
   "cell_type": "code",
   "execution_count": 9,
   "metadata": {},
   "outputs": [
    {
     "data": {
      "text/html": [
       "<pre style=\"white-space:pre;overflow-x:auto;line-height:normal;font-family:Menlo,'DejaVu Sans Mono',consolas,'Courier New',monospace\"><span style=\"font-weight: bold\">[[</span> <span style=\"color: #008080; text-decoration-color: #008080; font-weight: bold\">0</span>  <span style=\"color: #008080; text-decoration-color: #008080; font-weight: bold\">2</span>  <span style=\"color: #008080; text-decoration-color: #008080; font-weight: bold\">1</span>  <span style=\"color: #008080; text-decoration-color: #008080; font-weight: bold\">8</span><span style=\"font-weight: bold\">]</span>\n",
       " <span style=\"font-weight: bold\">[</span> <span style=\"color: #008080; text-decoration-color: #008080; font-weight: bold\">4</span> <span style=\"color: #008080; text-decoration-color: #008080; font-weight: bold\">10</span>  <span style=\"color: #008080; text-decoration-color: #008080; font-weight: bold\">9</span>  <span style=\"color: #008080; text-decoration-color: #008080; font-weight: bold\">0</span><span style=\"font-weight: bold\">]</span>\n",
       " <span style=\"font-weight: bold\">[</span> <span style=\"color: #008080; text-decoration-color: #008080; font-weight: bold\">0</span>  <span style=\"color: #008080; text-decoration-color: #008080; font-weight: bold\">2</span>  <span style=\"color: #008080; text-decoration-color: #008080; font-weight: bold\">0</span>  <span style=\"color: #008080; text-decoration-color: #008080; font-weight: bold\">3</span><span style=\"font-weight: bold\">]</span>\n",
       " <span style=\"color: #808000; text-decoration-color: #808000\">...</span>\n",
       " <span style=\"font-weight: bold\">[</span> <span style=\"color: #008080; text-decoration-color: #008080; font-weight: bold\">0</span>  <span style=\"color: #008080; text-decoration-color: #008080; font-weight: bold\">0</span>  <span style=\"color: #008080; text-decoration-color: #008080; font-weight: bold\">0</span>  <span style=\"color: #008080; text-decoration-color: #008080; font-weight: bold\">4</span><span style=\"font-weight: bold\">]</span>\n",
       " <span style=\"font-weight: bold\">[</span> <span style=\"color: #008080; text-decoration-color: #008080; font-weight: bold\">3</span>  <span style=\"color: #008080; text-decoration-color: #008080; font-weight: bold\">0</span>  <span style=\"color: #008080; text-decoration-color: #008080; font-weight: bold\">6</span>  <span style=\"color: #008080; text-decoration-color: #008080; font-weight: bold\">5</span><span style=\"font-weight: bold\">]</span>\n",
       " <span style=\"font-weight: bold\">[</span> <span style=\"color: #008080; text-decoration-color: #008080; font-weight: bold\">0</span>  <span style=\"color: #008080; text-decoration-color: #008080; font-weight: bold\">0</span>  <span style=\"color: #008080; text-decoration-color: #008080; font-weight: bold\">0</span>  <span style=\"color: #008080; text-decoration-color: #008080; font-weight: bold\">6</span><span style=\"font-weight: bold\">]]</span>\n",
       "</pre>\n"
      ],
      "text/plain": [
       "\u001b[1m[\u001b[0m\u001b[1m[\u001b[0m \u001b[1;36m0\u001b[0m  \u001b[1;36m2\u001b[0m  \u001b[1;36m1\u001b[0m  \u001b[1;36m8\u001b[0m\u001b[1m]\u001b[0m\n",
       " \u001b[1m[\u001b[0m \u001b[1;36m4\u001b[0m \u001b[1;36m10\u001b[0m  \u001b[1;36m9\u001b[0m  \u001b[1;36m0\u001b[0m\u001b[1m]\u001b[0m\n",
       " \u001b[1m[\u001b[0m \u001b[1;36m0\u001b[0m  \u001b[1;36m2\u001b[0m  \u001b[1;36m0\u001b[0m  \u001b[1;36m3\u001b[0m\u001b[1m]\u001b[0m\n",
       " \u001b[33m...\u001b[0m\n",
       " \u001b[1m[\u001b[0m \u001b[1;36m0\u001b[0m  \u001b[1;36m0\u001b[0m  \u001b[1;36m0\u001b[0m  \u001b[1;36m4\u001b[0m\u001b[1m]\u001b[0m\n",
       " \u001b[1m[\u001b[0m \u001b[1;36m3\u001b[0m  \u001b[1;36m0\u001b[0m  \u001b[1;36m6\u001b[0m  \u001b[1;36m5\u001b[0m\u001b[1m]\u001b[0m\n",
       " \u001b[1m[\u001b[0m \u001b[1;36m0\u001b[0m  \u001b[1;36m0\u001b[0m  \u001b[1;36m0\u001b[0m  \u001b[1;36m6\u001b[0m\u001b[1m]\u001b[0m\u001b[1m]\u001b[0m\n"
      ]
     },
     "metadata": {},
     "output_type": "display_data"
    },
    {
     "data": {
      "text/html": [
       "<pre style=\"white-space:pre;overflow-x:auto;line-height:normal;font-family:Menlo,'DejaVu Sans Mono',consolas,'Courier New',monospace\"><span style=\"font-weight: bold\">(</span><span style=\"color: #008080; text-decoration-color: #008080; font-weight: bold\">349</span>, <span style=\"color: #008080; text-decoration-color: #008080; font-weight: bold\">4</span><span style=\"font-weight: bold\">)</span>\n",
       "</pre>\n"
      ],
      "text/plain": [
       "\u001b[1m(\u001b[0m\u001b[1;36m349\u001b[0m, \u001b[1;36m4\u001b[0m\u001b[1m)\u001b[0m\n"
      ]
     },
     "metadata": {},
     "output_type": "display_data"
    },
    {
     "data": {
      "text/html": [
       "<pre style=\"white-space:pre;overflow-x:auto;line-height:normal;font-family:Menlo,'DejaVu Sans Mono',consolas,'Courier New',monospace\"><span style=\"font-weight: bold\">[[</span><span style=\"color: #008080; text-decoration-color: #008080; font-weight: bold\">1</span>.         <span style=\"color: #008080; text-decoration-color: #008080; font-weight: bold\">0.45895677</span> <span style=\"color: #008080; text-decoration-color: #008080; font-weight: bold\">0.60927301</span> <span style=\"color: #008080; text-decoration-color: #008080; font-weight: bold\">0.30253576</span><span style=\"font-weight: bold\">]</span>\n",
       " <span style=\"font-weight: bold\">[</span><span style=\"color: #008080; text-decoration-color: #008080; font-weight: bold\">0.45895677</span> <span style=\"color: #008080; text-decoration-color: #008080; font-weight: bold\">1</span>.         <span style=\"color: #008080; text-decoration-color: #008080; font-weight: bold\">0.49446431</span> <span style=\"color: #008080; text-decoration-color: #008080; font-weight: bold\">0.46978757</span><span style=\"font-weight: bold\">]</span>\n",
       " <span style=\"font-weight: bold\">[</span><span style=\"color: #008080; text-decoration-color: #008080; font-weight: bold\">0.60927301</span> <span style=\"color: #008080; text-decoration-color: #008080; font-weight: bold\">0.49446431</span> <span style=\"color: #008080; text-decoration-color: #008080; font-weight: bold\">1</span>.         <span style=\"color: #008080; text-decoration-color: #008080; font-weight: bold\">0.37734469</span><span style=\"font-weight: bold\">]</span>\n",
       " <span style=\"font-weight: bold\">[</span><span style=\"color: #008080; text-decoration-color: #008080; font-weight: bold\">0.30253576</span> <span style=\"color: #008080; text-decoration-color: #008080; font-weight: bold\">0.46978757</span> <span style=\"color: #008080; text-decoration-color: #008080; font-weight: bold\">0.37734469</span> <span style=\"color: #008080; text-decoration-color: #008080; font-weight: bold\">1</span>.        <span style=\"font-weight: bold\">]]</span>\n",
       "</pre>\n"
      ],
      "text/plain": [
       "\u001b[1m[\u001b[0m\u001b[1m[\u001b[0m\u001b[1;36m1\u001b[0m.         \u001b[1;36m0.45895677\u001b[0m \u001b[1;36m0.60927301\u001b[0m \u001b[1;36m0.30253576\u001b[0m\u001b[1m]\u001b[0m\n",
       " \u001b[1m[\u001b[0m\u001b[1;36m0.45895677\u001b[0m \u001b[1;36m1\u001b[0m.         \u001b[1;36m0.49446431\u001b[0m \u001b[1;36m0.46978757\u001b[0m\u001b[1m]\u001b[0m\n",
       " \u001b[1m[\u001b[0m\u001b[1;36m0.60927301\u001b[0m \u001b[1;36m0.49446431\u001b[0m \u001b[1;36m1\u001b[0m.         \u001b[1;36m0.37734469\u001b[0m\u001b[1m]\u001b[0m\n",
       " \u001b[1m[\u001b[0m\u001b[1;36m0.30253576\u001b[0m \u001b[1;36m0.46978757\u001b[0m \u001b[1;36m0.37734469\u001b[0m \u001b[1;36m1\u001b[0m.        \u001b[1m]\u001b[0m\u001b[1m]\u001b[0m\n"
      ]
     },
     "metadata": {},
     "output_type": "display_data"
    },
    {
     "data": {
      "text/html": [
       "<pre style=\"white-space:pre;overflow-x:auto;line-height:normal;font-family:Menlo,'DejaVu Sans Mono',consolas,'Courier New',monospace\"><span style=\"font-weight: bold\">[[</span><span style=\"color: #008080; text-decoration-color: #008080; font-weight: bold\">0.00000000e+00</span> <span style=\"color: #008080; text-decoration-color: #008080; font-weight: bold\">1.38756162e-19</span> <span style=\"color: #008080; text-decoration-color: #008080; font-weight: bold\">7.67118030e-37</span> <span style=\"color: #008080; text-decoration-color: #008080; font-weight: bold\">8.05689249e-09</span><span style=\"font-weight: bold\">]</span>\n",
       " <span style=\"font-weight: bold\">[</span><span style=\"color: #008080; text-decoration-color: #008080; font-weight: bold\">1.38756162e-19</span> <span style=\"color: #008080; text-decoration-color: #008080; font-weight: bold\">0.00000000e+00</span> <span style=\"color: #008080; text-decoration-color: #008080; font-weight: bold\">6.42312643e-23</span> <span style=\"color: #008080; text-decoration-color: #008080; font-weight: bold\">1.46554279e-20</span><span style=\"font-weight: bold\">]</span>\n",
       " <span style=\"font-weight: bold\">[</span><span style=\"color: #008080; text-decoration-color: #008080; font-weight: bold\">7.67118030e-37</span> <span style=\"color: #008080; text-decoration-color: #008080; font-weight: bold\">6.42312643e-23</span> <span style=\"color: #008080; text-decoration-color: #008080; font-weight: bold\">0.00000000e+00</span> <span style=\"color: #008080; text-decoration-color: #008080; font-weight: bold\">2.97439833e-13</span><span style=\"font-weight: bold\">]</span>\n",
       " <span style=\"font-weight: bold\">[</span><span style=\"color: #008080; text-decoration-color: #008080; font-weight: bold\">8.05689249e-09</span> <span style=\"color: #008080; text-decoration-color: #008080; font-weight: bold\">1.46554279e-20</span> <span style=\"color: #008080; text-decoration-color: #008080; font-weight: bold\">2.97439833e-13</span> <span style=\"color: #008080; text-decoration-color: #008080; font-weight: bold\">0.00000000e+00</span><span style=\"font-weight: bold\">]]</span>\n",
       "</pre>\n"
      ],
      "text/plain": [
       "\u001b[1m[\u001b[0m\u001b[1m[\u001b[0m\u001b[1;36m0.00000000e+00\u001b[0m \u001b[1;36m1.38756162e-19\u001b[0m \u001b[1;36m7.67118030e-37\u001b[0m \u001b[1;36m8.05689249e-09\u001b[0m\u001b[1m]\u001b[0m\n",
       " \u001b[1m[\u001b[0m\u001b[1;36m1.38756162e-19\u001b[0m \u001b[1;36m0.00000000e+00\u001b[0m \u001b[1;36m6.42312643e-23\u001b[0m \u001b[1;36m1.46554279e-20\u001b[0m\u001b[1m]\u001b[0m\n",
       " \u001b[1m[\u001b[0m\u001b[1;36m7.67118030e-37\u001b[0m \u001b[1;36m6.42312643e-23\u001b[0m \u001b[1;36m0.00000000e+00\u001b[0m \u001b[1;36m2.97439833e-13\u001b[0m\u001b[1m]\u001b[0m\n",
       " \u001b[1m[\u001b[0m\u001b[1;36m8.05689249e-09\u001b[0m \u001b[1;36m1.46554279e-20\u001b[0m \u001b[1;36m2.97439833e-13\u001b[0m \u001b[1;36m0.00000000e+00\u001b[0m\u001b[1m]\u001b[0m\u001b[1m]\u001b[0m\n"
      ]
     },
     "metadata": {},
     "output_type": "display_data"
    }
   ],
   "source": [
    "import numpy as np\n",
    "from rich import print\n",
    "\n",
    "observations = np.array(\n",
    "    responses\n",
    "    [(responses[\"category\"] == \"perspective\")]\n",
    "    .groupby(\"user_id\")\n",
    "    [\"score\"]\n",
    "    .apply(np.array)\n",
    "    .to_list()\n",
    ").T\n",
    "\n",
    "print(observations)\n",
    "print(observations.shape)\n",
    "corr, p_vals = stats.spearmanr(observations)\n",
    "print(corr)\n",
    "print(p_vals)"
   ]
  },
  {
   "cell_type": "code",
   "execution_count": 10,
   "metadata": {},
   "outputs": [
    {
     "data": {
      "text/plain": [
       "array([[ True,  True,  True,  True],\n",
       "       [ True,  True,  True,  True],\n",
       "       [ True,  True,  True,  True],\n",
       "       [ True,  True,  True,  True]])"
      ]
     },
     "execution_count": 10,
     "metadata": {},
     "output_type": "execute_result"
    }
   ],
   "source": [
    "p_vals < 0.0001"
   ]
  },
  {
   "cell_type": "code",
   "execution_count": 11,
   "metadata": {},
   "outputs": [
    {
     "data": {
      "image/png": "[encoded data removed]",
      "text/plain": [
       "<Figure size 432x288 with 2 Axes>"
      ]
     },
     "metadata": {
      "needs_background": "light"
     },
     "output_type": "display_data"
    }
   ],
   "source": [
    "import matplotlib.pyplot as plt\n",
    "import seaborn as sns\n",
    "\n",
    "sns.heatmap(corr, annot=p_vals)\n",
    "plt.show()"
   ]
  },
  {
   "cell_type": "code",
   "execution_count": 12,
   "metadata": {},
   "outputs": [
    {
     "data": {
      "text/plain": [
       "0.08326593776282588"
      ]
     },
     "execution_count": 12,
     "metadata": {},
     "output_type": "execute_result"
    }
   ],
   "source": [
    "from statsmodels.stats import inter_rater as irr\n",
    "\n",
    "arr, categories = irr.aggregate_raters(observations)\n",
    "irr.fleiss_kappa(arr)"
   ]
  },
  {
   "attachments": {},
   "cell_type": "markdown",
   "metadata": {},
   "source": [
    "#### Similarity scores"
   ]
  },
  {
   "cell_type": "code",
   "execution_count": 13,
   "metadata": {},
   "outputs": [
    {
     "data": {
      "text/html": [
       "<pre style=\"white-space:pre;overflow-x:auto;line-height:normal;font-family:Menlo,'DejaVu Sans Mono',consolas,'Courier New',monospace\"><span style=\"font-weight: bold\">[[</span> <span style=\"color: #008080; text-decoration-color: #008080; font-weight: bold\">6</span>  <span style=\"color: #008080; text-decoration-color: #008080; font-weight: bold\">5</span>  <span style=\"color: #008080; text-decoration-color: #008080; font-weight: bold\">2</span>  <span style=\"color: #008080; text-decoration-color: #008080; font-weight: bold\">2</span><span style=\"font-weight: bold\">]</span>\n",
       " <span style=\"font-weight: bold\">[</span> <span style=\"color: #008080; text-decoration-color: #008080; font-weight: bold\">0</span>  <span style=\"color: #008080; text-decoration-color: #008080; font-weight: bold\">1</span>  <span style=\"color: #008080; text-decoration-color: #008080; font-weight: bold\">1</span>  <span style=\"color: #008080; text-decoration-color: #008080; font-weight: bold\">3</span><span style=\"font-weight: bold\">]</span>\n",
       " <span style=\"font-weight: bold\">[</span> <span style=\"color: #008080; text-decoration-color: #008080; font-weight: bold\">6</span> <span style=\"color: #008080; text-decoration-color: #008080; font-weight: bold\">10</span> <span style=\"color: #008080; text-decoration-color: #008080; font-weight: bold\">10</span>  <span style=\"color: #008080; text-decoration-color: #008080; font-weight: bold\">1</span><span style=\"font-weight: bold\">]</span>\n",
       " <span style=\"color: #808000; text-decoration-color: #808000\">...</span>\n",
       " <span style=\"font-weight: bold\">[</span> <span style=\"color: #008080; text-decoration-color: #008080; font-weight: bold\">0</span>  <span style=\"color: #008080; text-decoration-color: #008080; font-weight: bold\">5</span>  <span style=\"color: #008080; text-decoration-color: #008080; font-weight: bold\">0</span>  <span style=\"color: #008080; text-decoration-color: #008080; font-weight: bold\">4</span><span style=\"font-weight: bold\">]</span>\n",
       " <span style=\"font-weight: bold\">[</span> <span style=\"color: #008080; text-decoration-color: #008080; font-weight: bold\">9</span>  <span style=\"color: #008080; text-decoration-color: #008080; font-weight: bold\">5</span> <span style=\"color: #008080; text-decoration-color: #008080; font-weight: bold\">10</span>  <span style=\"color: #008080; text-decoration-color: #008080; font-weight: bold\">7</span><span style=\"font-weight: bold\">]</span>\n",
       " <span style=\"font-weight: bold\">[</span> <span style=\"color: #008080; text-decoration-color: #008080; font-weight: bold\">0</span>  <span style=\"color: #008080; text-decoration-color: #008080; font-weight: bold\">5</span>  <span style=\"color: #008080; text-decoration-color: #008080; font-weight: bold\">0</span>  <span style=\"color: #008080; text-decoration-color: #008080; font-weight: bold\">5</span><span style=\"font-weight: bold\">]]</span>\n",
       "</pre>\n"
      ],
      "text/plain": [
       "\u001b[1m[\u001b[0m\u001b[1m[\u001b[0m \u001b[1;36m6\u001b[0m  \u001b[1;36m5\u001b[0m  \u001b[1;36m2\u001b[0m  \u001b[1;36m2\u001b[0m\u001b[1m]\u001b[0m\n",
       " \u001b[1m[\u001b[0m \u001b[1;36m0\u001b[0m  \u001b[1;36m1\u001b[0m  \u001b[1;36m1\u001b[0m  \u001b[1;36m3\u001b[0m\u001b[1m]\u001b[0m\n",
       " \u001b[1m[\u001b[0m \u001b[1;36m6\u001b[0m \u001b[1;36m10\u001b[0m \u001b[1;36m10\u001b[0m  \u001b[1;36m1\u001b[0m\u001b[1m]\u001b[0m\n",
       " \u001b[33m...\u001b[0m\n",
       " \u001b[1m[\u001b[0m \u001b[1;36m0\u001b[0m  \u001b[1;36m5\u001b[0m  \u001b[1;36m0\u001b[0m  \u001b[1;36m4\u001b[0m\u001b[1m]\u001b[0m\n",
       " \u001b[1m[\u001b[0m \u001b[1;36m9\u001b[0m  \u001b[1;36m5\u001b[0m \u001b[1;36m10\u001b[0m  \u001b[1;36m7\u001b[0m\u001b[1m]\u001b[0m\n",
       " \u001b[1m[\u001b[0m \u001b[1;36m0\u001b[0m  \u001b[1;36m5\u001b[0m  \u001b[1;36m0\u001b[0m  \u001b[1;36m5\u001b[0m\u001b[1m]\u001b[0m\u001b[1m]\u001b[0m\n"
      ]
     },
     "metadata": {},
     "output_type": "display_data"
    },
    {
     "data": {
      "text/html": [
       "<pre style=\"white-space:pre;overflow-x:auto;line-height:normal;font-family:Menlo,'DejaVu Sans Mono',consolas,'Courier New',monospace\"><span style=\"font-weight: bold\">(</span><span style=\"color: #008080; text-decoration-color: #008080; font-weight: bold\">349</span>, <span style=\"color: #008080; text-decoration-color: #008080; font-weight: bold\">4</span><span style=\"font-weight: bold\">)</span>\n",
       "</pre>\n"
      ],
      "text/plain": [
       "\u001b[1m(\u001b[0m\u001b[1;36m349\u001b[0m, \u001b[1;36m4\u001b[0m\u001b[1m)\u001b[0m\n"
      ]
     },
     "metadata": {},
     "output_type": "display_data"
    },
    {
     "data": {
      "text/html": [
       "<pre style=\"white-space:pre;overflow-x:auto;line-height:normal;font-family:Menlo,'DejaVu Sans Mono',consolas,'Courier New',monospace\"><span style=\"font-weight: bold\">[[</span><span style=\"color: #008080; text-decoration-color: #008080; font-weight: bold\">1</span>.         <span style=\"color: #008080; text-decoration-color: #008080; font-weight: bold\">0.50030824</span> <span style=\"color: #008080; text-decoration-color: #008080; font-weight: bold\">0.64098834</span> <span style=\"color: #008080; text-decoration-color: #008080; font-weight: bold\">0.54332611</span><span style=\"font-weight: bold\">]</span>\n",
       " <span style=\"font-weight: bold\">[</span><span style=\"color: #008080; text-decoration-color: #008080; font-weight: bold\">0.50030824</span> <span style=\"color: #008080; text-decoration-color: #008080; font-weight: bold\">1</span>.         <span style=\"color: #008080; text-decoration-color: #008080; font-weight: bold\">0.42866942</span> <span style=\"color: #008080; text-decoration-color: #008080; font-weight: bold\">0.47449297</span><span style=\"font-weight: bold\">]</span>\n",
       " <span style=\"font-weight: bold\">[</span><span style=\"color: #008080; text-decoration-color: #008080; font-weight: bold\">0.64098834</span> <span style=\"color: #008080; text-decoration-color: #008080; font-weight: bold\">0.42866942</span> <span style=\"color: #008080; text-decoration-color: #008080; font-weight: bold\">1</span>.         <span style=\"color: #008080; text-decoration-color: #008080; font-weight: bold\">0.56294418</span><span style=\"font-weight: bold\">]</span>\n",
       " <span style=\"font-weight: bold\">[</span><span style=\"color: #008080; text-decoration-color: #008080; font-weight: bold\">0.54332611</span> <span style=\"color: #008080; text-decoration-color: #008080; font-weight: bold\">0.47449297</span> <span style=\"color: #008080; text-decoration-color: #008080; font-weight: bold\">0.56294418</span> <span style=\"color: #008080; text-decoration-color: #008080; font-weight: bold\">1</span>.        <span style=\"font-weight: bold\">]]</span>\n",
       "</pre>\n"
      ],
      "text/plain": [
       "\u001b[1m[\u001b[0m\u001b[1m[\u001b[0m\u001b[1;36m1\u001b[0m.         \u001b[1;36m0.50030824\u001b[0m \u001b[1;36m0.64098834\u001b[0m \u001b[1;36m0.54332611\u001b[0m\u001b[1m]\u001b[0m\n",
       " \u001b[1m[\u001b[0m\u001b[1;36m0.50030824\u001b[0m \u001b[1;36m1\u001b[0m.         \u001b[1;36m0.42866942\u001b[0m \u001b[1;36m0.47449297\u001b[0m\u001b[1m]\u001b[0m\n",
       " \u001b[1m[\u001b[0m\u001b[1;36m0.64098834\u001b[0m \u001b[1;36m0.42866942\u001b[0m \u001b[1;36m1\u001b[0m.         \u001b[1;36m0.56294418\u001b[0m\u001b[1m]\u001b[0m\n",
       " \u001b[1m[\u001b[0m\u001b[1;36m0.54332611\u001b[0m \u001b[1;36m0.47449297\u001b[0m \u001b[1;36m0.56294418\u001b[0m \u001b[1;36m1\u001b[0m.        \u001b[1m]\u001b[0m\u001b[1m]\u001b[0m\n"
      ]
     },
     "metadata": {},
     "output_type": "display_data"
    },
    {
     "data": {
      "text/html": [
       "<pre style=\"white-space:pre;overflow-x:auto;line-height:normal;font-family:Menlo,'DejaVu Sans Mono',consolas,'Courier New',monospace\"><span style=\"font-weight: bold\">[[</span><span style=\"color: #008080; text-decoration-color: #008080; font-weight: bold\">0.00000000e+00</span> <span style=\"color: #008080; text-decoration-color: #008080; font-weight: bold\">1.66233932e-23</span> <span style=\"color: #008080; text-decoration-color: #008080; font-weight: bold\">9.01535822e-42</span> <span style=\"color: #008080; text-decoration-color: #008080; font-weight: bold\">3.40850876e-28</span><span style=\"font-weight: bold\">]</span>\n",
       " <span style=\"font-weight: bold\">[</span><span style=\"color: #008080; text-decoration-color: #008080; font-weight: bold\">1.66233932e-23</span> <span style=\"color: #008080; text-decoration-color: #008080; font-weight: bold\">0.00000000e+00</span> <span style=\"color: #008080; text-decoration-color: #008080; font-weight: bold\">4.95007654e-17</span> <span style=\"color: #008080; text-decoration-color: #008080; font-weight: bold\">5.38188826e-21</span><span style=\"font-weight: bold\">]</span>\n",
       " <span style=\"font-weight: bold\">[</span><span style=\"color: #008080; text-decoration-color: #008080; font-weight: bold\">9.01535822e-42</span> <span style=\"color: #008080; text-decoration-color: #008080; font-weight: bold\">4.95007654e-17</span> <span style=\"color: #008080; text-decoration-color: #008080; font-weight: bold\">0.00000000e+00</span> <span style=\"color: #008080; text-decoration-color: #008080; font-weight: bold\">1.44777131e-30</span><span style=\"font-weight: bold\">]</span>\n",
       " <span style=\"font-weight: bold\">[</span><span style=\"color: #008080; text-decoration-color: #008080; font-weight: bold\">3.40850876e-28</span> <span style=\"color: #008080; text-decoration-color: #008080; font-weight: bold\">5.38188826e-21</span> <span style=\"color: #008080; text-decoration-color: #008080; font-weight: bold\">1.44777131e-30</span> <span style=\"color: #008080; text-decoration-color: #008080; font-weight: bold\">0.00000000e+00</span><span style=\"font-weight: bold\">]]</span>\n",
       "</pre>\n"
      ],
      "text/plain": [
       "\u001b[1m[\u001b[0m\u001b[1m[\u001b[0m\u001b[1;36m0.00000000e+00\u001b[0m \u001b[1;36m1.66233932e-23\u001b[0m \u001b[1;36m9.01535822e-42\u001b[0m \u001b[1;36m3.40850876e-28\u001b[0m\u001b[1m]\u001b[0m\n",
       " \u001b[1m[\u001b[0m\u001b[1;36m1.66233932e-23\u001b[0m \u001b[1;36m0.00000000e+00\u001b[0m \u001b[1;36m4.95007654e-17\u001b[0m \u001b[1;36m5.38188826e-21\u001b[0m\u001b[1m]\u001b[0m\n",
       " \u001b[1m[\u001b[0m\u001b[1;36m9.01535822e-42\u001b[0m \u001b[1;36m4.95007654e-17\u001b[0m \u001b[1;36m0.00000000e+00\u001b[0m \u001b[1;36m1.44777131e-30\u001b[0m\u001b[1m]\u001b[0m\n",
       " \u001b[1m[\u001b[0m\u001b[1;36m3.40850876e-28\u001b[0m \u001b[1;36m5.38188826e-21\u001b[0m \u001b[1;36m1.44777131e-30\u001b[0m \u001b[1;36m0.00000000e+00\u001b[0m\u001b[1m]\u001b[0m\u001b[1m]\u001b[0m\n"
      ]
     },
     "metadata": {},
     "output_type": "display_data"
    }
   ],
   "source": [
    "observations = np.array(\n",
    "    responses\n",
    "    [(responses[\"category\"] == \"similarity\")]\n",
    "    .groupby(\"user_id\")\n",
    "    [\"score\"]\n",
    "    .apply(np.array)\n",
    "    .to_list()\n",
    ").T\n",
    "\n",
    "print(observations)\n",
    "print(observations.shape)\n",
    "corr, p_vals = stats.spearmanr(observations)\n",
    "print(corr)\n",
    "print(p_vals)"
   ]
  },
  {
   "cell_type": "code",
   "execution_count": 14,
   "metadata": {},
   "outputs": [
    {
     "data": {
      "image/png": "[encoded data removed]",
      "text/plain": [
       "<Figure size 432x288 with 2 Axes>"
      ]
     },
     "metadata": {
      "needs_background": "light"
     },
     "output_type": "display_data"
    }
   ],
   "source": [
    "import matplotlib.pyplot as plt\n",
    "import seaborn as sns\n",
    "\n",
    "sns.heatmap(corr, annot=p_vals)\n",
    "plt.show()"
   ]
  },
  {
   "cell_type": "code",
   "execution_count": 15,
   "metadata": {},
   "outputs": [
    {
     "data": {
      "text/plain": [
       "array([[ True,  True,  True,  True],\n",
       "       [ True,  True,  True,  True],\n",
       "       [ True,  True,  True,  True],\n",
       "       [ True,  True,  True,  True]])"
      ]
     },
     "execution_count": 15,
     "metadata": {},
     "output_type": "execute_result"
    }
   ],
   "source": [
    "p_vals < 0.05"
   ]
  },
  {
   "cell_type": "code",
   "execution_count": 16,
   "metadata": {},
   "outputs": [
    {
     "data": {
      "text/plain": [
       "array([[ True,  True,  True,  True],\n",
       "       [ True,  True,  True,  True],\n",
       "       [ True,  True,  True,  True],\n",
       "       [ True,  True,  True,  True]])"
      ]
     },
     "execution_count": 16,
     "metadata": {},
     "output_type": "execute_result"
    }
   ],
   "source": [
    "p_vals < 0.005"
   ]
  },
  {
   "cell_type": "code",
   "execution_count": 17,
   "metadata": {},
   "outputs": [
    {
     "data": {
      "text/plain": [
       "array([[ True,  True,  True,  True],\n",
       "       [ True,  True,  True,  True],\n",
       "       [ True,  True,  True,  True],\n",
       "       [ True,  True,  True,  True]])"
      ]
     },
     "execution_count": 17,
     "metadata": {},
     "output_type": "execute_result"
    }
   ],
   "source": [
    "p_vals < 0.0001"
   ]
  },
  {
   "cell_type": "code",
   "execution_count": 18,
   "metadata": {},
   "outputs": [
    {
     "data": {
      "text/plain": [
       "0.11011254741726148"
      ]
     },
     "execution_count": 18,
     "metadata": {},
     "output_type": "execute_result"
    }
   ],
   "source": [
    "arr, categories = irr.aggregate_raters(observations)\n",
    "irr.fleiss_kappa(arr)\n"
   ]
  },
  {
   "attachments": {},
   "cell_type": "markdown",
   "metadata": {},
   "source": [
    "## Correlation with auto eval"
   ]
  },
  {
   "cell_type": "code",
   "execution_count": 19,
   "metadata": {},
   "outputs": [
    {
     "data": {
      "text/html": [
       "<div>\n",
       "<style scoped>\n",
       "    .dataframe tbody tr th:only-of-type {\n",
       "        vertical-align: middle;\n",
       "    }\n",
       "\n",
       "    .dataframe tbody tr th {\n",
       "        vertical-align: top;\n",
       "    }\n",
       "\n",
       "    .dataframe thead th {\n",
       "        text-align: right;\n",
       "    }\n",
       "</style>\n",
       "<table border=\"1\" class=\"dataframe\">\n",
       "  <thead>\n",
       "    <tr style=\"text-align: right;\">\n",
       "      <th></th>\n",
       "      <th>src-tgt</th>\n",
       "      <th>src-gpt3_0SLH_hum_eval.predictions.txt</th>\n",
       "      <th>src-gpt3_CFSLH-B_hum_eval.predictions.txt</th>\n",
       "      <th>src-gpt3_CFSLH_hum_eval.predictions.txt</th>\n",
       "      <th>src-gpt3_FSLH_hum_eval.predictions.txt</th>\n",
       "      <th>src-mbart_info_src_sh.txt</th>\n",
       "      <th>src-mbart_src_info_sh.txt</th>\n",
       "      <th>src-mbart_unsupervised.txt</th>\n",
       "      <th>tgt-gpt3_0SLH_hum_eval.predictions.txt</th>\n",
       "      <th>tgt-gpt3_CFSLH-B_hum_eval.predictions.txt</th>\n",
       "      <th>tgt-gpt3_CFSLH_hum_eval.predictions.txt</th>\n",
       "      <th>tgt-gpt3_FSLH_hum_eval.predictions.txt</th>\n",
       "      <th>tgt-mbart_info_src_sh.txt</th>\n",
       "      <th>tgt-mbart_src_info_sh.txt</th>\n",
       "      <th>tgt-mbart_unsupervised.txt</th>\n",
       "    </tr>\n",
       "  </thead>\n",
       "  <tbody>\n",
       "    <tr>\n",
       "      <th>0</th>\n",
       "      <td>0.06688</td>\n",
       "      <td>0.81250</td>\n",
       "      <td>0.20779</td>\n",
       "      <td>0.83636</td>\n",
       "      <td>0.73684</td>\n",
       "      <td>0.10526</td>\n",
       "      <td>0.80597</td>\n",
       "      <td>0.94737</td>\n",
       "      <td>0.10436</td>\n",
       "      <td>0.06958</td>\n",
       "      <td>0.06832</td>\n",
       "      <td>0.07989</td>\n",
       "      <td>0.20793</td>\n",
       "      <td>0.05453</td>\n",
       "      <td>0.07545</td>\n",
       "    </tr>\n",
       "    <tr>\n",
       "      <th>1</th>\n",
       "      <td>0.09113</td>\n",
       "      <td>0.66667</td>\n",
       "      <td>0.20000</td>\n",
       "      <td>0.44444</td>\n",
       "      <td>0.30769</td>\n",
       "      <td>0.11429</td>\n",
       "      <td>0.09524</td>\n",
       "      <td>0.61538</td>\n",
       "      <td>0.10151</td>\n",
       "      <td>0.16075</td>\n",
       "      <td>0.08438</td>\n",
       "      <td>0.11048</td>\n",
       "      <td>0.18020</td>\n",
       "      <td>0.21472</td>\n",
       "      <td>0.03301</td>\n",
       "    </tr>\n",
       "    <tr>\n",
       "      <th>2</th>\n",
       "      <td>0.21608</td>\n",
       "      <td>0.00000</td>\n",
       "      <td>0.22222</td>\n",
       "      <td>0.75000</td>\n",
       "      <td>0.35000</td>\n",
       "      <td>0.05714</td>\n",
       "      <td>0.85714</td>\n",
       "      <td>0.51852</td>\n",
       "      <td>0.04903</td>\n",
       "      <td>0.10727</td>\n",
       "      <td>0.19664</td>\n",
       "      <td>0.12226</td>\n",
       "      <td>0.13085</td>\n",
       "      <td>0.22201</td>\n",
       "      <td>0.16257</td>\n",
       "    </tr>\n",
       "    <tr>\n",
       "      <th>3</th>\n",
       "      <td>0.04255</td>\n",
       "      <td>0.28571</td>\n",
       "      <td>0.42857</td>\n",
       "      <td>0.30769</td>\n",
       "      <td>0.25000</td>\n",
       "      <td>0.11111</td>\n",
       "      <td>0.71429</td>\n",
       "      <td>0.61538</td>\n",
       "      <td>0.00000</td>\n",
       "      <td>0.08163</td>\n",
       "      <td>0.04167</td>\n",
       "      <td>0.07843</td>\n",
       "      <td>0.03774</td>\n",
       "      <td>0.04082</td>\n",
       "      <td>0.04167</td>\n",
       "    </tr>\n",
       "    <tr>\n",
       "      <th>4</th>\n",
       "      <td>0.06897</td>\n",
       "      <td>0.34783</td>\n",
       "      <td>0.17391</td>\n",
       "      <td>0.52632</td>\n",
       "      <td>0.94118</td>\n",
       "      <td>0.13333</td>\n",
       "      <td>0.94737</td>\n",
       "      <td>0.63636</td>\n",
       "      <td>0.05882</td>\n",
       "      <td>0.05882</td>\n",
       "      <td>0.00000</td>\n",
       "      <td>0.07143</td>\n",
       "      <td>0.29268</td>\n",
       "      <td>0.06667</td>\n",
       "      <td>0.18182</td>\n",
       "    </tr>\n",
       "  </tbody>\n",
       "</table>\n",
       "</div>"
      ],
      "text/plain": [
       "   src-tgt  src-gpt3_0SLH_hum_eval.predictions.txt  \\\n",
       "0  0.06688                                 0.81250   \n",
       "1  0.09113                                 0.66667   \n",
       "2  0.21608                                 0.00000   \n",
       "3  0.04255                                 0.28571   \n",
       "4  0.06897                                 0.34783   \n",
       "\n",
       "   src-gpt3_CFSLH-B_hum_eval.predictions.txt  \\\n",
       "0                                    0.20779   \n",
       "1                                    0.20000   \n",
       "2                                    0.22222   \n",
       "3                                    0.42857   \n",
       "4                                    0.17391   \n",
       "\n",
       "   src-gpt3_CFSLH_hum_eval.predictions.txt  \\\n",
       "0                                  0.83636   \n",
       "1                                  0.44444   \n",
       "2                                  0.75000   \n",
       "3                                  0.30769   \n",
       "4                                  0.52632   \n",
       "\n",
       "   src-gpt3_FSLH_hum_eval.predictions.txt  src-mbart_info_src_sh.txt  \\\n",
       "0                                 0.73684                    0.10526   \n",
       "1                                 0.30769                    0.11429   \n",
       "2                                 0.35000                    0.05714   \n",
       "3                                 0.25000                    0.11111   \n",
       "4                                 0.94118                    0.13333   \n",
       "\n",
       "   src-mbart_src_info_sh.txt  src-mbart_unsupervised.txt  \\\n",
       "0                    0.80597                     0.94737   \n",
       "1                    0.09524                     0.61538   \n",
       "2                    0.85714                     0.51852   \n",
       "3                    0.71429                     0.61538   \n",
       "4                    0.94737                     0.63636   \n",
       "\n",
       "   tgt-gpt3_0SLH_hum_eval.predictions.txt  \\\n",
       "0                                 0.10436   \n",
       "1                                 0.10151   \n",
       "2                                 0.04903   \n",
       "3                                 0.00000   \n",
       "4                                 0.05882   \n",
       "\n",
       "   tgt-gpt3_CFSLH-B_hum_eval.predictions.txt  \\\n",
       "0                                    0.06958   \n",
       "1                                    0.16075   \n",
       "2                                    0.10727   \n",
       "3                                    0.08163   \n",
       "4                                    0.05882   \n",
       "\n",
       "   tgt-gpt3_CFSLH_hum_eval.predictions.txt  \\\n",
       "0                                  0.06832   \n",
       "1                                  0.08438   \n",
       "2                                  0.19664   \n",
       "3                                  0.04167   \n",
       "4                                  0.00000   \n",
       "\n",
       "   tgt-gpt3_FSLH_hum_eval.predictions.txt  tgt-mbart_info_src_sh.txt  \\\n",
       "0                                 0.07989                    0.20793   \n",
       "1                                 0.11048                    0.18020   \n",
       "2                                 0.12226                    0.13085   \n",
       "3                                 0.07843                    0.03774   \n",
       "4                                 0.07143                    0.29268   \n",
       "\n",
       "   tgt-mbart_src_info_sh.txt  tgt-mbart_unsupervised.txt  \n",
       "0                    0.05453                     0.07545  \n",
       "1                    0.21472                     0.03301  \n",
       "2                    0.22201                     0.16257  \n",
       "3                    0.04082                     0.04167  \n",
       "4                    0.06667                     0.18182  "
      ]
     },
     "execution_count": 19,
     "metadata": {},
     "output_type": "execute_result"
    }
   ],
   "source": [
    "rouge = pd.read_excel(\"output/huiyuan-auto-eval/rouge_1.xlsx\", index_col=0)\n",
    "rouge.head()"
   ]
  },
  {
   "cell_type": "code",
   "execution_count": 29,
   "metadata": {},
   "outputs": [
    {
     "data": {
      "text/html": [
       "<div>\n",
       "<style scoped>\n",
       "    .dataframe tbody tr th:only-of-type {\n",
       "        vertical-align: middle;\n",
       "    }\n",
       "\n",
       "    .dataframe tbody tr th {\n",
       "        vertical-align: top;\n",
       "    }\n",
       "\n",
       "    .dataframe thead th {\n",
       "        text-align: right;\n",
       "    }\n",
       "</style>\n",
       "<table border=\"1\" class=\"dataframe\">\n",
       "  <thead>\n",
       "    <tr style=\"text-align: right;\">\n",
       "      <th></th>\n",
       "      <th>src-tgt</th>\n",
       "      <th>src-gpt3_0SLH_hum_eval.predictions.txt</th>\n",
       "      <th>src-gpt3_CFSLH-B_hum_eval.predictions.txt</th>\n",
       "      <th>src-gpt3_CFSLH_hum_eval.predictions.txt</th>\n",
       "      <th>src-gpt3_FSLH_hum_eval.predictions.txt</th>\n",
       "      <th>src-mbart_info_src_sh.txt</th>\n",
       "      <th>src-mbart_src_info_sh.txt</th>\n",
       "      <th>src-mbart_unsupervised.txt</th>\n",
       "      <th>tgt-gpt3_0SLH_hum_eval.predictions.txt</th>\n",
       "      <th>tgt-gpt3_CFSLH-B_hum_eval.predictions.txt</th>\n",
       "      <th>tgt-gpt3_CFSLH_hum_eval.predictions.txt</th>\n",
       "      <th>tgt-gpt3_FSLH_hum_eval.predictions.txt</th>\n",
       "      <th>tgt-mbart_info_src_sh.txt</th>\n",
       "      <th>tgt-mbart_src_info_sh.txt</th>\n",
       "      <th>tgt-mbart_unsupervised.txt</th>\n",
       "    </tr>\n",
       "  </thead>\n",
       "  <tbody>\n",
       "    <tr>\n",
       "      <th>0</th>\n",
       "      <td>0.00380</td>\n",
       "      <td>0.46037</td>\n",
       "      <td>0.05591</td>\n",
       "      <td>0.77745</td>\n",
       "      <td>0.56163</td>\n",
       "      <td>0.00857</td>\n",
       "      <td>0.63333</td>\n",
       "      <td>0.88279</td>\n",
       "      <td>0.00520</td>\n",
       "      <td>0.00475</td>\n",
       "      <td>0.00594</td>\n",
       "      <td>0.00477</td>\n",
       "      <td>0.05015</td>\n",
       "      <td>0.00482</td>\n",
       "      <td>0.00546</td>\n",
       "    </tr>\n",
       "    <tr>\n",
       "      <th>1</th>\n",
       "      <td>0.01031</td>\n",
       "      <td>0.03391</td>\n",
       "      <td>0.01699</td>\n",
       "      <td>0.02197</td>\n",
       "      <td>0.10446</td>\n",
       "      <td>0.00565</td>\n",
       "      <td>0.01080</td>\n",
       "      <td>0.51697</td>\n",
       "      <td>0.00453</td>\n",
       "      <td>0.01205</td>\n",
       "      <td>0.01283</td>\n",
       "      <td>0.01321</td>\n",
       "      <td>0.03455</td>\n",
       "      <td>0.05668</td>\n",
       "      <td>0.00327</td>\n",
       "    </tr>\n",
       "    <tr>\n",
       "      <th>2</th>\n",
       "      <td>0.06792</td>\n",
       "      <td>0.00000</td>\n",
       "      <td>0.09942</td>\n",
       "      <td>0.57073</td>\n",
       "      <td>0.19286</td>\n",
       "      <td>0.01041</td>\n",
       "      <td>0.68794</td>\n",
       "      <td>0.44761</td>\n",
       "      <td>0.00497</td>\n",
       "      <td>0.01209</td>\n",
       "      <td>0.06004</td>\n",
       "      <td>0.03396</td>\n",
       "      <td>0.02293</td>\n",
       "      <td>0.06079</td>\n",
       "      <td>0.02248</td>\n",
       "    </tr>\n",
       "    <tr>\n",
       "      <th>3</th>\n",
       "      <td>0.00445</td>\n",
       "      <td>0.00000</td>\n",
       "      <td>0.11868</td>\n",
       "      <td>0.02832</td>\n",
       "      <td>0.02778</td>\n",
       "      <td>0.01703</td>\n",
       "      <td>0.71030</td>\n",
       "      <td>0.67865</td>\n",
       "      <td>0.00000</td>\n",
       "      <td>0.00043</td>\n",
       "      <td>0.00010</td>\n",
       "      <td>0.00056</td>\n",
       "      <td>0.00078</td>\n",
       "      <td>0.00093</td>\n",
       "      <td>0.00078</td>\n",
       "    </tr>\n",
       "    <tr>\n",
       "      <th>4</th>\n",
       "      <td>0.00828</td>\n",
       "      <td>0.04647</td>\n",
       "      <td>0.03343</td>\n",
       "      <td>0.63894</td>\n",
       "      <td>0.71894</td>\n",
       "      <td>0.01827</td>\n",
       "      <td>0.89315</td>\n",
       "      <td>0.39350</td>\n",
       "      <td>0.00720</td>\n",
       "      <td>0.00751</td>\n",
       "      <td>0.00575</td>\n",
       "      <td>0.00506</td>\n",
       "      <td>0.02732</td>\n",
       "      <td>0.00633</td>\n",
       "      <td>0.00893</td>\n",
       "    </tr>\n",
       "  </tbody>\n",
       "</table>\n",
       "</div>"
      ],
      "text/plain": [
       "   src-tgt  src-gpt3_0SLH_hum_eval.predictions.txt  \\\n",
       "0  0.00380                                 0.46037   \n",
       "1  0.01031                                 0.03391   \n",
       "2  0.06792                                 0.00000   \n",
       "3  0.00445                                 0.00000   \n",
       "4  0.00828                                 0.04647   \n",
       "\n",
       "   src-gpt3_CFSLH-B_hum_eval.predictions.txt  \\\n",
       "0                                    0.05591   \n",
       "1                                    0.01699   \n",
       "2                                    0.09942   \n",
       "3                                    0.11868   \n",
       "4                                    0.03343   \n",
       "\n",
       "   src-gpt3_CFSLH_hum_eval.predictions.txt  \\\n",
       "0                                  0.77745   \n",
       "1                                  0.02197   \n",
       "2                                  0.57073   \n",
       "3                                  0.02832   \n",
       "4                                  0.63894   \n",
       "\n",
       "   src-gpt3_FSLH_hum_eval.predictions.txt  src-mbart_info_src_sh.txt  \\\n",
       "0                                 0.56163                    0.00857   \n",
       "1                                 0.10446                    0.00565   \n",
       "2                                 0.19286                    0.01041   \n",
       "3                                 0.02778                    0.01703   \n",
       "4                                 0.71894                    0.01827   \n",
       "\n",
       "   src-mbart_src_info_sh.txt  src-mbart_unsupervised.txt  \\\n",
       "0                    0.63333                     0.88279   \n",
       "1                    0.01080                     0.51697   \n",
       "2                    0.68794                     0.44761   \n",
       "3                    0.71030                     0.67865   \n",
       "4                    0.89315                     0.39350   \n",
       "\n",
       "   tgt-gpt3_0SLH_hum_eval.predictions.txt  \\\n",
       "0                                 0.00520   \n",
       "1                                 0.00453   \n",
       "2                                 0.00497   \n",
       "3                                 0.00000   \n",
       "4                                 0.00720   \n",
       "\n",
       "   tgt-gpt3_CFSLH-B_hum_eval.predictions.txt  \\\n",
       "0                                    0.00475   \n",
       "1                                    0.01205   \n",
       "2                                    0.01209   \n",
       "3                                    0.00043   \n",
       "4                                    0.00751   \n",
       "\n",
       "   tgt-gpt3_CFSLH_hum_eval.predictions.txt  \\\n",
       "0                                  0.00594   \n",
       "1                                  0.01283   \n",
       "2                                  0.06004   \n",
       "3                                  0.00010   \n",
       "4                                  0.00575   \n",
       "\n",
       "   tgt-gpt3_FSLH_hum_eval.predictions.txt  tgt-mbart_info_src_sh.txt  \\\n",
       "0                                 0.00477                    0.05015   \n",
       "1                                 0.01321                    0.03455   \n",
       "2                                 0.03396                    0.02293   \n",
       "3                                 0.00056                    0.00078   \n",
       "4                                 0.00506                    0.02732   \n",
       "\n",
       "   tgt-mbart_src_info_sh.txt  tgt-mbart_unsupervised.txt  \n",
       "0                    0.00482                     0.00546  \n",
       "1                    0.05668                     0.00327  \n",
       "2                    0.06079                     0.02248  \n",
       "3                    0.00093                     0.00078  \n",
       "4                    0.00633                     0.00893  "
      ]
     },
     "execution_count": 29,
     "metadata": {},
     "output_type": "execute_result"
    }
   ],
   "source": [
    "bleu = pd.read_excel(\"output/huiyuan-auto-eval/bleu_1.xlsx\", index_col=0)\n",
    "bleu.head()"
   ]
  },
  {
   "cell_type": "code",
   "execution_count": 30,
   "metadata": {},
   "outputs": [
    {
     "data": {
      "text/html": [
       "<div>\n",
       "<style scoped>\n",
       "    .dataframe tbody tr th:only-of-type {\n",
       "        vertical-align: middle;\n",
       "    }\n",
       "\n",
       "    .dataframe tbody tr th {\n",
       "        vertical-align: top;\n",
       "    }\n",
       "\n",
       "    .dataframe thead th {\n",
       "        text-align: right;\n",
       "    }\n",
       "</style>\n",
       "<table border=\"1\" class=\"dataframe\">\n",
       "  <thead>\n",
       "    <tr style=\"text-align: right;\">\n",
       "      <th></th>\n",
       "      <th>src-tgt</th>\n",
       "      <th>src-gpt3_0SLH_hum_eval.predictions.txt</th>\n",
       "      <th>src-gpt3_CFSLH-B_hum_eval.predictions.txt</th>\n",
       "      <th>src-gpt3_CFSLH_hum_eval.predictions.txt</th>\n",
       "      <th>src-gpt3_FSLH_hum_eval.predictions.txt</th>\n",
       "      <th>src-mbart_info_src_sh.txt</th>\n",
       "      <th>src-mbart_src_info_sh.txt</th>\n",
       "      <th>src-mbart_unsupervised.txt</th>\n",
       "      <th>tgt-gpt3_0SLH_hum_eval.predictions.txt</th>\n",
       "      <th>tgt-gpt3_CFSLH-B_hum_eval.predictions.txt</th>\n",
       "      <th>tgt-gpt3_CFSLH_hum_eval.predictions.txt</th>\n",
       "      <th>tgt-gpt3_FSLH_hum_eval.predictions.txt</th>\n",
       "      <th>tgt-mbart_info_src_sh.txt</th>\n",
       "      <th>tgt-mbart_src_info_sh.txt</th>\n",
       "      <th>tgt-mbart_unsupervised.txt</th>\n",
       "    </tr>\n",
       "  </thead>\n",
       "  <tbody>\n",
       "    <tr>\n",
       "      <th>0</th>\n",
       "      <td>-1.33915</td>\n",
       "      <td>0.52364</td>\n",
       "      <td>-0.90404</td>\n",
       "      <td>0.48709</td>\n",
       "      <td>0.72103</td>\n",
       "      <td>-1.25446</td>\n",
       "      <td>0.34383</td>\n",
       "      <td>1.06455</td>\n",
       "      <td>-1.26406</td>\n",
       "      <td>-1.28221</td>\n",
       "      <td>-1.31978</td>\n",
       "      <td>-1.34385</td>\n",
       "      <td>-1.10166</td>\n",
       "      <td>-1.47287</td>\n",
       "      <td>-1.33979</td>\n",
       "    </tr>\n",
       "    <tr>\n",
       "      <th>1</th>\n",
       "      <td>-1.32760</td>\n",
       "      <td>-0.09755</td>\n",
       "      <td>-0.73008</td>\n",
       "      <td>-0.17604</td>\n",
       "      <td>-0.28597</td>\n",
       "      <td>-1.44577</td>\n",
       "      <td>-1.50838</td>\n",
       "      <td>-0.19474</td>\n",
       "      <td>-1.40974</td>\n",
       "      <td>-1.18994</td>\n",
       "      <td>-0.85131</td>\n",
       "      <td>-1.06825</td>\n",
       "      <td>-0.90036</td>\n",
       "      <td>-1.14808</td>\n",
       "      <td>-1.49523</td>\n",
       "    </tr>\n",
       "    <tr>\n",
       "      <th>2</th>\n",
       "      <td>-1.08474</td>\n",
       "      <td>-1.38184</td>\n",
       "      <td>-0.51543</td>\n",
       "      <td>0.59588</td>\n",
       "      <td>0.56427</td>\n",
       "      <td>-1.23828</td>\n",
       "      <td>0.93016</td>\n",
       "      <td>-0.20984</td>\n",
       "      <td>-1.51025</td>\n",
       "      <td>-1.14317</td>\n",
       "      <td>-0.75803</td>\n",
       "      <td>-0.76012</td>\n",
       "      <td>-0.89774</td>\n",
       "      <td>-0.92304</td>\n",
       "      <td>-1.28137</td>\n",
       "    </tr>\n",
       "    <tr>\n",
       "      <th>3</th>\n",
       "      <td>-1.38788</td>\n",
       "      <td>-1.39372</td>\n",
       "      <td>0.13200</td>\n",
       "      <td>-0.25590</td>\n",
       "      <td>-0.16242</td>\n",
       "      <td>-1.34126</td>\n",
       "      <td>-0.29885</td>\n",
       "      <td>0.25832</td>\n",
       "      <td>-2.26903</td>\n",
       "      <td>-1.47584</td>\n",
       "      <td>-1.42962</td>\n",
       "      <td>-1.26414</td>\n",
       "      <td>-1.48063</td>\n",
       "      <td>-1.77012</td>\n",
       "      <td>-1.57562</td>\n",
       "    </tr>\n",
       "    <tr>\n",
       "      <th>4</th>\n",
       "      <td>-0.92376</td>\n",
       "      <td>0.34031</td>\n",
       "      <td>0.46557</td>\n",
       "      <td>0.27691</td>\n",
       "      <td>1.12594</td>\n",
       "      <td>-0.68657</td>\n",
       "      <td>0.93055</td>\n",
       "      <td>0.11530</td>\n",
       "      <td>-0.70451</td>\n",
       "      <td>-0.74892</td>\n",
       "      <td>-1.43889</td>\n",
       "      <td>-1.29783</td>\n",
       "      <td>-0.06003</td>\n",
       "      <td>-1.39433</td>\n",
       "      <td>-1.13846</td>\n",
       "    </tr>\n",
       "  </tbody>\n",
       "</table>\n",
       "</div>"
      ],
      "text/plain": [
       "   src-tgt  src-gpt3_0SLH_hum_eval.predictions.txt  \\\n",
       "0 -1.33915                                 0.52364   \n",
       "1 -1.32760                                -0.09755   \n",
       "2 -1.08474                                -1.38184   \n",
       "3 -1.38788                                -1.39372   \n",
       "4 -0.92376                                 0.34031   \n",
       "\n",
       "   src-gpt3_CFSLH-B_hum_eval.predictions.txt  \\\n",
       "0                                   -0.90404   \n",
       "1                                   -0.73008   \n",
       "2                                   -0.51543   \n",
       "3                                    0.13200   \n",
       "4                                    0.46557   \n",
       "\n",
       "   src-gpt3_CFSLH_hum_eval.predictions.txt  \\\n",
       "0                                  0.48709   \n",
       "1                                 -0.17604   \n",
       "2                                  0.59588   \n",
       "3                                 -0.25590   \n",
       "4                                  0.27691   \n",
       "\n",
       "   src-gpt3_FSLH_hum_eval.predictions.txt  src-mbart_info_src_sh.txt  \\\n",
       "0                                 0.72103                   -1.25446   \n",
       "1                                -0.28597                   -1.44577   \n",
       "2                                 0.56427                   -1.23828   \n",
       "3                                -0.16242                   -1.34126   \n",
       "4                                 1.12594                   -0.68657   \n",
       "\n",
       "   src-mbart_src_info_sh.txt  src-mbart_unsupervised.txt  \\\n",
       "0                    0.34383                     1.06455   \n",
       "1                   -1.50838                    -0.19474   \n",
       "2                    0.93016                    -0.20984   \n",
       "3                   -0.29885                     0.25832   \n",
       "4                    0.93055                     0.11530   \n",
       "\n",
       "   tgt-gpt3_0SLH_hum_eval.predictions.txt  \\\n",
       "0                                -1.26406   \n",
       "1                                -1.40974   \n",
       "2                                -1.51025   \n",
       "3                                -2.26903   \n",
       "4                                -0.70451   \n",
       "\n",
       "   tgt-gpt3_CFSLH-B_hum_eval.predictions.txt  \\\n",
       "0                                   -1.28221   \n",
       "1                                   -1.18994   \n",
       "2                                   -1.14317   \n",
       "3                                   -1.47584   \n",
       "4                                   -0.74892   \n",
       "\n",
       "   tgt-gpt3_CFSLH_hum_eval.predictions.txt  \\\n",
       "0                                 -1.31978   \n",
       "1                                 -0.85131   \n",
       "2                                 -0.75803   \n",
       "3                                 -1.42962   \n",
       "4                                 -1.43889   \n",
       "\n",
       "   tgt-gpt3_FSLH_hum_eval.predictions.txt  tgt-mbart_info_src_sh.txt  \\\n",
       "0                                -1.34385                   -1.10166   \n",
       "1                                -1.06825                   -0.90036   \n",
       "2                                -0.76012                   -0.89774   \n",
       "3                                -1.26414                   -1.48063   \n",
       "4                                -1.29783                   -0.06003   \n",
       "\n",
       "   tgt-mbart_src_info_sh.txt  tgt-mbart_unsupervised.txt  \n",
       "0                   -1.47287                    -1.33979  \n",
       "1                   -1.14808                    -1.49523  \n",
       "2                   -0.92304                    -1.28137  \n",
       "3                   -1.77012                    -1.57562  \n",
       "4                   -1.39433                    -1.13846  "
      ]
     },
     "execution_count": 30,
     "metadata": {},
     "output_type": "execute_result"
    }
   ],
   "source": [
    "comet = pd.read_excel(\"output/huiyuan-auto-eval/comet_1.xlsx\", index_col=0)\n",
    "comet.head()"
   ]
  },
  {
   "cell_type": "code",
   "execution_count": 32,
   "metadata": {},
   "outputs": [
    {
     "data": {
      "text/html": [
       "<pre style=\"white-space:pre;overflow-x:auto;line-height:normal;font-family:Menlo,'DejaVu Sans Mono',consolas,'Courier New',monospace\">gpt3_0SLH_hum_eval.predictions.txt\n",
       "</pre>\n"
      ],
      "text/plain": [
       "gpt3_0SLH_hum_eval.predictions.txt\n"
      ]
     },
     "metadata": {},
     "output_type": "display_data"
    },
    {
     "data": {
      "text/html": [
       "<pre style=\"white-space:pre;overflow-x:auto;line-height:normal;font-family:Menlo,'DejaVu Sans Mono',consolas,'Courier New',monospace\">gpt3_CFSLH-B_hum_eval.predictions.txt\n",
       "</pre>\n"
      ],
      "text/plain": [
       "gpt3_CFSLH-B_hum_eval.predictions.txt\n"
      ]
     },
     "metadata": {},
     "output_type": "display_data"
    },
    {
     "data": {
      "text/html": [
       "<pre style=\"white-space:pre;overflow-x:auto;line-height:normal;font-family:Menlo,'DejaVu Sans Mono',consolas,'Courier New',monospace\">gpt3_CFSLH_hum_eval.predictions.txt\n",
       "</pre>\n"
      ],
      "text/plain": [
       "gpt3_CFSLH_hum_eval.predictions.txt\n"
      ]
     },
     "metadata": {},
     "output_type": "display_data"
    },
    {
     "data": {
      "text/html": [
       "<pre style=\"white-space:pre;overflow-x:auto;line-height:normal;font-family:Menlo,'DejaVu Sans Mono',consolas,'Courier New',monospace\">gpt3_FSLH_hum_eval.predictions.txt\n",
       "</pre>\n"
      ],
      "text/plain": [
       "gpt3_FSLH_hum_eval.predictions.txt\n"
      ]
     },
     "metadata": {},
     "output_type": "display_data"
    },
    {
     "data": {
      "text/html": [
       "<pre style=\"white-space:pre;overflow-x:auto;line-height:normal;font-family:Menlo,'DejaVu Sans Mono',consolas,'Courier New',monospace\">mbart_info_src_sh.txt\n",
       "</pre>\n"
      ],
      "text/plain": [
       "mbart_info_src_sh.txt\n"
      ]
     },
     "metadata": {},
     "output_type": "display_data"
    },
    {
     "data": {
      "text/html": [
       "<pre style=\"white-space:pre;overflow-x:auto;line-height:normal;font-family:Menlo,'DejaVu Sans Mono',consolas,'Courier New',monospace\">mbart_src_info_sh.txt\n",
       "</pre>\n"
      ],
      "text/plain": [
       "mbart_src_info_sh.txt\n"
      ]
     },
     "metadata": {},
     "output_type": "display_data"
    },
    {
     "data": {
      "text/html": [
       "<pre style=\"white-space:pre;overflow-x:auto;line-height:normal;font-family:Menlo,'DejaVu Sans Mono',consolas,'Courier New',monospace\">mbart_unsupervised.txt\n",
       "</pre>\n"
      ],
      "text/plain": [
       "mbart_unsupervised.txt\n"
      ]
     },
     "metadata": {},
     "output_type": "display_data"
    }
   ],
   "source": [
    "correlations = {\n",
    "    \"src\": [],\n",
    "    \"tgt\": []\n",
    "}\n",
    "\n",
    "for col in rouge.columns:\n",
    "    if col == \"src-tgt\":\n",
    "        continue\n",
    "    if not col.startswith(\"src-\"):\n",
    "        continue\n",
    "    model = col.replace(\"src-\", \"\")\n",
    "    print(model)\n",
    "    \n",
    "    mean_perspective = (\n",
    "        responses[(responses[\"category\"] == \"perspective\") & (responses[\"model\"] == model)]\n",
    "        .groupby(\"block_id\")\n",
    "        [\"score\"]\n",
    "        .mean()\n",
    "    )\n",
    "    mean_similarity = (\n",
    "        responses[(responses[\"category\"] == \"similarity\") & (responses[\"model\"] == model)]\n",
    "        .groupby(\"block_id\")\n",
    "        [\"score\"]\n",
    "        .mean()\n",
    "    )\n",
    "\n",
    "    for comparison in [\"src\", \"tgt\"]:\n",
    "        perspective_data = mean_perspective.to_numpy()\n",
    "        similarity_data = mean_similarity.to_numpy()\n",
    "\n",
    "        column_name = [f\"{comparison}-{model}\"]\n",
    "        rouge_data = rouge[column_name].to_numpy()\n",
    "        bleu_data = bleu[column_name].to_numpy()\n",
    "        comet_data = comet[column_name].to_numpy()\n",
    "\n",
    "        # because of bug in questionnaire generation script, one sentence for this model is missing in the questionnaire\n",
    "        if model == \"gpt3_FSLH_hum_eval.predictions.txt\":\n",
    "            rouge_data = rouge_data[:49]\n",
    "            bleu_data = bleu_data[:49]\n",
    "            comet_data = comet_data[:49]\n",
    "\n",
    "        persp_rouge = stats.spearmanr(perspective_data, rouge_data)\n",
    "        persp_bleu = stats.spearmanr(perspective_data, bleu_data)\n",
    "        persp_comet = stats.spearmanr(perspective_data, comet_data)\n",
    "        sim_rouge = stats.spearmanr(similarity_data, rouge_data)\n",
    "        sim_bleu = stats.spearmanr(similarity_data, bleu_data)\n",
    "        sim_comet = stats.spearmanr(similarity_data, comet_data)\n",
    "        \n",
    "        correlations[comparison].append({\n",
    "            \"model\": model,\n",
    "            \"perspective_rouge_corr\": persp_rouge[0],\n",
    "            \"perspective_rouge_pval\": persp_rouge[1],\n",
    "            \"perspective_bleu_corr\": persp_bleu[0],\n",
    "            \"perspective_bleu_pval\": persp_bleu[1],\n",
    "            \"perspective_comet_corr\": persp_comet[0],\n",
    "            \"perspective_comet_pval\": persp_comet[1],\n",
    "            \"similarity_rouge_corr\": sim_rouge[0],\n",
    "            \"similarity_rouge_pval\": sim_rouge[1],\n",
    "            \"similarity_bleu_corr\": sim_bleu[0],\n",
    "            \"similarity_bleu_pval\": sim_bleu[1],\n",
    "            \"similarity_comet_corr\": sim_comet[0],\n",
    "            \"similarity_comet_pval\": sim_comet[1]\n",
    "        })\n",
    "\n",
    "pd.DataFrame(correlations[\"src\"]).to_csv(\"output/questionnaire/auto_correlations_src.csv\")\n",
    "pd.DataFrame(correlations[\"tgt\"]).to_csv(\"output/questionnaire/auto_correlations_tgt.csv\")\n"
   ]
  },
  {
   "cell_type": "code",
   "execution_count": 22,
   "metadata": {},
   "outputs": [],
   "source": [
    "all_sentences = (\n",
    "    responses[(responses[\"category\"] == \"perspective\") & (responses[\"model\"] == \"gpt3_CFSLH_hum_eval.predictions.txt\")]\n",
    "    .groupby(\"sentence\")\n",
    "    .agg({\"score\": list})\n",
    "    .reset_index()\n",
    "    [\"sentence\"]\n",
    "    .to_list()\n",
    ")"
   ]
  }
 ],
 "metadata": {
  "kernelspec": {
   "display_name": "perspredict",
   "language": "python",
   "name": "python3"
  },
  "language_info": {
   "codemirror_mode": {
    "name": "ipython",
    "version": 3
   },
   "file_extension": ".py",
   "mimetype": "text/x-python",
   "name": "python",
   "nbconvert_exporter": "python",
   "pygments_lexer": "ipython3",
   "version": "3.9.7"
  },
  "orig_nbformat": 4,
  "vscode": {
   "interpreter": {
    "hash": "7f9fc4bb09b96ccdef8201cda01aaceb2fd9113306e9cef85e4da40d6d85aa0b"
   }
  }
 },
 "nbformat": 4,
 "nbformat_minor": 2
}
