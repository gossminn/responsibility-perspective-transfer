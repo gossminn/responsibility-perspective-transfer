{
 "cells": [
  {
   "cell_type": "code",
   "execution_count": 2,
   "metadata": {},
   "outputs": [
    {
     "data": {
      "text/html": [
       "<div>\n",
       "<style scoped>\n",
       "    .dataframe tbody tr th:only-of-type {\n",
       "        vertical-align: middle;\n",
       "    }\n",
       "\n",
       "    .dataframe tbody tr th {\n",
       "        vertical-align: top;\n",
       "    }\n",
       "\n",
       "    .dataframe thead th {\n",
       "        text-align: right;\n",
       "    }\n",
       "</style>\n",
       "<table border=\"1\" class=\"dataframe\">\n",
       "  <thead>\n",
       "    <tr style=\"text-align: right;\">\n",
       "      <th></th>\n",
       "      <th>user_id</th>\n",
       "      <th>model</th>\n",
       "      <th>category</th>\n",
       "      <th>sentence</th>\n",
       "      <th>score</th>\n",
       "    </tr>\n",
       "  </thead>\n",
       "  <tbody>\n",
       "    <tr>\n",
       "      <th>0</th>\n",
       "      <td>0</td>\n",
       "      <td>prompt_CFSLH-B.txt</td>\n",
       "      <td>perspective</td>\n",
       "      <td>Non c'è alcuna giustificazione per l'omicidio ...</td>\n",
       "      <td>7</td>\n",
       "    </tr>\n",
       "    <tr>\n",
       "      <th>1</th>\n",
       "      <td>1</td>\n",
       "      <td>prompt_CFSLH-B.txt</td>\n",
       "      <td>perspective</td>\n",
       "      <td>Non c'è alcuna giustificazione per l'omicidio ...</td>\n",
       "      <td>6</td>\n",
       "    </tr>\n",
       "    <tr>\n",
       "      <th>2</th>\n",
       "      <td>2</td>\n",
       "      <td>prompt_CFSLH-B.txt</td>\n",
       "      <td>perspective</td>\n",
       "      <td>Non c'è alcuna giustificazione per l'omicidio ...</td>\n",
       "      <td>10</td>\n",
       "    </tr>\n",
       "    <tr>\n",
       "      <th>3</th>\n",
       "      <td>0</td>\n",
       "      <td>prompt_CFSLH-B.txt</td>\n",
       "      <td>perspective</td>\n",
       "      <td>'La tabaccaia uccisa sarà oggi la sentenza.'</td>\n",
       "      <td>2</td>\n",
       "    </tr>\n",
       "    <tr>\n",
       "      <th>4</th>\n",
       "      <td>1</td>\n",
       "      <td>prompt_CFSLH-B.txt</td>\n",
       "      <td>perspective</td>\n",
       "      <td>'La tabaccaia uccisa sarà oggi la sentenza.'</td>\n",
       "      <td>0</td>\n",
       "    </tr>\n",
       "    <tr>\n",
       "      <th>5</th>\n",
       "      <td>2</td>\n",
       "      <td>prompt_CFSLH-B.txt</td>\n",
       "      <td>perspective</td>\n",
       "      <td>'La tabaccaia uccisa sarà oggi la sentenza.'</td>\n",
       "      <td>0</td>\n",
       "    </tr>\n",
       "    <tr>\n",
       "      <th>6</th>\n",
       "      <td>0</td>\n",
       "      <td>prompt_CFSLH-B.txt</td>\n",
       "      <td>perspective</td>\n",
       "      <td>'L'omicidio di Ashley è un altro tragico esemp...</td>\n",
       "      <td>6</td>\n",
       "    </tr>\n",
       "    <tr>\n",
       "      <th>7</th>\n",
       "      <td>1</td>\n",
       "      <td>prompt_CFSLH-B.txt</td>\n",
       "      <td>perspective</td>\n",
       "      <td>'L'omicidio di Ashley è un altro tragico esemp...</td>\n",
       "      <td>7</td>\n",
       "    </tr>\n",
       "    <tr>\n",
       "      <th>8</th>\n",
       "      <td>2</td>\n",
       "      <td>prompt_CFSLH-B.txt</td>\n",
       "      <td>perspective</td>\n",
       "      <td>'L'omicidio di Ashley è un altro tragico esemp...</td>\n",
       "      <td>0</td>\n",
       "    </tr>\n",
       "    <tr>\n",
       "      <th>9</th>\n",
       "      <td>0</td>\n",
       "      <td>prompt_CFSLH-B.txt</td>\n",
       "      <td>perspective</td>\n",
       "      <td>'Liliana è stata uccisa nel piccolo parcheggio...</td>\n",
       "      <td>6</td>\n",
       "    </tr>\n",
       "    <tr>\n",
       "      <th>10</th>\n",
       "      <td>1</td>\n",
       "      <td>prompt_CFSLH-B.txt</td>\n",
       "      <td>perspective</td>\n",
       "      <td>'Liliana è stata uccisa nel piccolo parcheggio...</td>\n",
       "      <td>4</td>\n",
       "    </tr>\n",
       "    <tr>\n",
       "      <th>11</th>\n",
       "      <td>2</td>\n",
       "      <td>prompt_CFSLH-B.txt</td>\n",
       "      <td>perspective</td>\n",
       "      <td>'Liliana è stata uccisa nel piccolo parcheggio...</td>\n",
       "      <td>5</td>\n",
       "    </tr>\n",
       "    <tr>\n",
       "      <th>12</th>\n",
       "      <td>0</td>\n",
       "      <td>prompt_CFSLH-B.txt</td>\n",
       "      <td>perspective</td>\n",
       "      <td>`` Quella folle manovra sulla tangenziale di N...</td>\n",
       "      <td>5</td>\n",
       "    </tr>\n",
       "    <tr>\n",
       "      <th>13</th>\n",
       "      <td>1</td>\n",
       "      <td>prompt_CFSLH-B.txt</td>\n",
       "      <td>perspective</td>\n",
       "      <td>`` Quella folle manovra sulla tangenziale di N...</td>\n",
       "      <td>0</td>\n",
       "    </tr>\n",
       "    <tr>\n",
       "      <th>14</th>\n",
       "      <td>2</td>\n",
       "      <td>prompt_CFSLH-B.txt</td>\n",
       "      <td>perspective</td>\n",
       "      <td>`` Quella folle manovra sulla tangenziale di N...</td>\n",
       "      <td>0</td>\n",
       "    </tr>\n",
       "    <tr>\n",
       "      <th>15</th>\n",
       "      <td>0</td>\n",
       "      <td>prompt_CFSLH-B.txt</td>\n",
       "      <td>similarity</td>\n",
       "      <td>Non c'è alcuna giustificazione per l'omicidio ...</td>\n",
       "      <td>0</td>\n",
       "    </tr>\n",
       "    <tr>\n",
       "      <th>16</th>\n",
       "      <td>1</td>\n",
       "      <td>prompt_CFSLH-B.txt</td>\n",
       "      <td>similarity</td>\n",
       "      <td>Non c'è alcuna giustificazione per l'omicidio ...</td>\n",
       "      <td>2</td>\n",
       "    </tr>\n",
       "    <tr>\n",
       "      <th>17</th>\n",
       "      <td>2</td>\n",
       "      <td>prompt_CFSLH-B.txt</td>\n",
       "      <td>similarity</td>\n",
       "      <td>Non c'è alcuna giustificazione per l'omicidio ...</td>\n",
       "      <td>1</td>\n",
       "    </tr>\n",
       "    <tr>\n",
       "      <th>18</th>\n",
       "      <td>0</td>\n",
       "      <td>prompt_CFSLH-B.txt</td>\n",
       "      <td>similarity</td>\n",
       "      <td>'La tabaccaia uccisa sarà oggi la sentenza.'</td>\n",
       "      <td>10</td>\n",
       "    </tr>\n",
       "    <tr>\n",
       "      <th>19</th>\n",
       "      <td>1</td>\n",
       "      <td>prompt_CFSLH-B.txt</td>\n",
       "      <td>similarity</td>\n",
       "      <td>'La tabaccaia uccisa sarà oggi la sentenza.'</td>\n",
       "      <td>10</td>\n",
       "    </tr>\n",
       "    <tr>\n",
       "      <th>20</th>\n",
       "      <td>2</td>\n",
       "      <td>prompt_CFSLH-B.txt</td>\n",
       "      <td>similarity</td>\n",
       "      <td>'La tabaccaia uccisa sarà oggi la sentenza.'</td>\n",
       "      <td>9</td>\n",
       "    </tr>\n",
       "    <tr>\n",
       "      <th>21</th>\n",
       "      <td>0</td>\n",
       "      <td>prompt_CFSLH-B.txt</td>\n",
       "      <td>similarity</td>\n",
       "      <td>'L'omicidio di Ashley è un altro tragico esemp...</td>\n",
       "      <td>0</td>\n",
       "    </tr>\n",
       "    <tr>\n",
       "      <th>22</th>\n",
       "      <td>1</td>\n",
       "      <td>prompt_CFSLH-B.txt</td>\n",
       "      <td>similarity</td>\n",
       "      <td>'L'omicidio di Ashley è un altro tragico esemp...</td>\n",
       "      <td>5</td>\n",
       "    </tr>\n",
       "    <tr>\n",
       "      <th>23</th>\n",
       "      <td>2</td>\n",
       "      <td>prompt_CFSLH-B.txt</td>\n",
       "      <td>similarity</td>\n",
       "      <td>'L'omicidio di Ashley è un altro tragico esemp...</td>\n",
       "      <td>9</td>\n",
       "    </tr>\n",
       "    <tr>\n",
       "      <th>24</th>\n",
       "      <td>0</td>\n",
       "      <td>prompt_CFSLH-B.txt</td>\n",
       "      <td>similarity</td>\n",
       "      <td>'Liliana è stata uccisa nel piccolo parcheggio...</td>\n",
       "      <td>7</td>\n",
       "    </tr>\n",
       "    <tr>\n",
       "      <th>25</th>\n",
       "      <td>1</td>\n",
       "      <td>prompt_CFSLH-B.txt</td>\n",
       "      <td>similarity</td>\n",
       "      <td>'Liliana è stata uccisa nel piccolo parcheggio...</td>\n",
       "      <td>7</td>\n",
       "    </tr>\n",
       "    <tr>\n",
       "      <th>26</th>\n",
       "      <td>2</td>\n",
       "      <td>prompt_CFSLH-B.txt</td>\n",
       "      <td>similarity</td>\n",
       "      <td>'Liliana è stata uccisa nel piccolo parcheggio...</td>\n",
       "      <td>10</td>\n",
       "    </tr>\n",
       "    <tr>\n",
       "      <th>27</th>\n",
       "      <td>0</td>\n",
       "      <td>prompt_CFSLH-B.txt</td>\n",
       "      <td>similarity</td>\n",
       "      <td>`` Quella folle manovra sulla tangenziale di N...</td>\n",
       "      <td>3</td>\n",
       "    </tr>\n",
       "    <tr>\n",
       "      <th>28</th>\n",
       "      <td>1</td>\n",
       "      <td>prompt_CFSLH-B.txt</td>\n",
       "      <td>similarity</td>\n",
       "      <td>`` Quella folle manovra sulla tangenziale di N...</td>\n",
       "      <td>4</td>\n",
       "    </tr>\n",
       "    <tr>\n",
       "      <th>29</th>\n",
       "      <td>2</td>\n",
       "      <td>prompt_CFSLH-B.txt</td>\n",
       "      <td>similarity</td>\n",
       "      <td>`` Quella folle manovra sulla tangenziale di N...</td>\n",
       "      <td>2</td>\n",
       "    </tr>\n",
       "    <tr>\n",
       "      <th>30</th>\n",
       "      <td>0</td>\n",
       "      <td>prompt_CFSLH.txt</td>\n",
       "      <td>perspective</td>\n",
       "      <td>L'omicida femminicida , dopo aver ucciso , non...</td>\n",
       "      <td>8</td>\n",
       "    </tr>\n",
       "    <tr>\n",
       "      <th>31</th>\n",
       "      <td>1</td>\n",
       "      <td>prompt_CFSLH.txt</td>\n",
       "      <td>perspective</td>\n",
       "      <td>L'omicida femminicida , dopo aver ucciso , non...</td>\n",
       "      <td>6</td>\n",
       "    </tr>\n",
       "    <tr>\n",
       "      <th>32</th>\n",
       "      <td>2</td>\n",
       "      <td>prompt_CFSLH.txt</td>\n",
       "      <td>perspective</td>\n",
       "      <td>L'omicida femminicida , dopo aver ucciso , non...</td>\n",
       "      <td>10</td>\n",
       "    </tr>\n",
       "    <tr>\n",
       "      <th>33</th>\n",
       "      <td>0</td>\n",
       "      <td>prompt_CFSLH.txt</td>\n",
       "      <td>perspective</td>\n",
       "      <td>'L'uomo che ha ucciso la tabaccaia verrà giudi...</td>\n",
       "      <td>9</td>\n",
       "    </tr>\n",
       "    <tr>\n",
       "      <th>34</th>\n",
       "      <td>1</td>\n",
       "      <td>prompt_CFSLH.txt</td>\n",
       "      <td>perspective</td>\n",
       "      <td>'L'uomo che ha ucciso la tabaccaia verrà giudi...</td>\n",
       "      <td>5</td>\n",
       "    </tr>\n",
       "    <tr>\n",
       "      <th>35</th>\n",
       "      <td>2</td>\n",
       "      <td>prompt_CFSLH.txt</td>\n",
       "      <td>perspective</td>\n",
       "      <td>'L'uomo che ha ucciso la tabaccaia verrà giudi...</td>\n",
       "      <td>10</td>\n",
       "    </tr>\n",
       "    <tr>\n",
       "      <th>36</th>\n",
       "      <td>0</td>\n",
       "      <td>prompt_CFSLH.txt</td>\n",
       "      <td>perspective</td>\n",
       "      <td>'Ashley , 35 anni , è stata uccisa dal suo con...</td>\n",
       "      <td>7</td>\n",
       "    </tr>\n",
       "    <tr>\n",
       "      <th>37</th>\n",
       "      <td>1</td>\n",
       "      <td>prompt_CFSLH.txt</td>\n",
       "      <td>perspective</td>\n",
       "      <td>'Ashley , 35 anni , è stata uccisa dal suo con...</td>\n",
       "      <td>1</td>\n",
       "    </tr>\n",
       "    <tr>\n",
       "      <th>38</th>\n",
       "      <td>2</td>\n",
       "      <td>prompt_CFSLH.txt</td>\n",
       "      <td>perspective</td>\n",
       "      <td>'Ashley , 35 anni , è stata uccisa dal suo con...</td>\n",
       "      <td>3</td>\n",
       "    </tr>\n",
       "    <tr>\n",
       "      <th>39</th>\n",
       "      <td>0</td>\n",
       "      <td>prompt_CFSLH.txt</td>\n",
       "      <td>perspective</td>\n",
       "      <td>'Nella notte tra sabato e domenica , nel picco...</td>\n",
       "      <td>6</td>\n",
       "    </tr>\n",
       "    <tr>\n",
       "      <th>40</th>\n",
       "      <td>1</td>\n",
       "      <td>prompt_CFSLH.txt</td>\n",
       "      <td>perspective</td>\n",
       "      <td>'Nella notte tra sabato e domenica , nel picco...</td>\n",
       "      <td>3</td>\n",
       "    </tr>\n",
       "    <tr>\n",
       "      <th>41</th>\n",
       "      <td>2</td>\n",
       "      <td>prompt_CFSLH.txt</td>\n",
       "      <td>perspective</td>\n",
       "      <td>'Nella notte tra sabato e domenica , nel picco...</td>\n",
       "      <td>0</td>\n",
       "    </tr>\n",
       "    <tr>\n",
       "      <th>42</th>\n",
       "      <td>0</td>\n",
       "      <td>prompt_CFSLH.txt</td>\n",
       "      <td>perspective</td>\n",
       "      <td>`` Quella folle manovra sulla tangenziale di N...</td>\n",
       "      <td>6</td>\n",
       "    </tr>\n",
       "    <tr>\n",
       "      <th>43</th>\n",
       "      <td>1</td>\n",
       "      <td>prompt_CFSLH.txt</td>\n",
       "      <td>perspective</td>\n",
       "      <td>`` Quella folle manovra sulla tangenziale di N...</td>\n",
       "      <td>4</td>\n",
       "    </tr>\n",
       "    <tr>\n",
       "      <th>44</th>\n",
       "      <td>2</td>\n",
       "      <td>prompt_CFSLH.txt</td>\n",
       "      <td>perspective</td>\n",
       "      <td>`` Quella folle manovra sulla tangenziale di N...</td>\n",
       "      <td>0</td>\n",
       "    </tr>\n",
       "    <tr>\n",
       "      <th>45</th>\n",
       "      <td>0</td>\n",
       "      <td>prompt_CFSLH.txt</td>\n",
       "      <td>similarity</td>\n",
       "      <td>L'omicida femminicida , dopo aver ucciso , non...</td>\n",
       "      <td>8</td>\n",
       "    </tr>\n",
       "    <tr>\n",
       "      <th>46</th>\n",
       "      <td>1</td>\n",
       "      <td>prompt_CFSLH.txt</td>\n",
       "      <td>similarity</td>\n",
       "      <td>L'omicida femminicida , dopo aver ucciso , non...</td>\n",
       "      <td>4</td>\n",
       "    </tr>\n",
       "    <tr>\n",
       "      <th>47</th>\n",
       "      <td>2</td>\n",
       "      <td>prompt_CFSLH.txt</td>\n",
       "      <td>similarity</td>\n",
       "      <td>L'omicida femminicida , dopo aver ucciso , non...</td>\n",
       "      <td>0</td>\n",
       "    </tr>\n",
       "    <tr>\n",
       "      <th>48</th>\n",
       "      <td>0</td>\n",
       "      <td>prompt_CFSLH.txt</td>\n",
       "      <td>similarity</td>\n",
       "      <td>'L'uomo che ha ucciso la tabaccaia verrà giudi...</td>\n",
       "      <td>3</td>\n",
       "    </tr>\n",
       "    <tr>\n",
       "      <th>49</th>\n",
       "      <td>1</td>\n",
       "      <td>prompt_CFSLH.txt</td>\n",
       "      <td>similarity</td>\n",
       "      <td>'L'uomo che ha ucciso la tabaccaia verrà giudi...</td>\n",
       "      <td>7</td>\n",
       "    </tr>\n",
       "    <tr>\n",
       "      <th>50</th>\n",
       "      <td>2</td>\n",
       "      <td>prompt_CFSLH.txt</td>\n",
       "      <td>similarity</td>\n",
       "      <td>'L'uomo che ha ucciso la tabaccaia verrà giudi...</td>\n",
       "      <td>10</td>\n",
       "    </tr>\n",
       "    <tr>\n",
       "      <th>51</th>\n",
       "      <td>0</td>\n",
       "      <td>prompt_CFSLH.txt</td>\n",
       "      <td>similarity</td>\n",
       "      <td>'Ashley , 35 anni , è stata uccisa dal suo con...</td>\n",
       "      <td>9</td>\n",
       "    </tr>\n",
       "    <tr>\n",
       "      <th>52</th>\n",
       "      <td>1</td>\n",
       "      <td>prompt_CFSLH.txt</td>\n",
       "      <td>similarity</td>\n",
       "      <td>'Ashley , 35 anni , è stata uccisa dal suo con...</td>\n",
       "      <td>9</td>\n",
       "    </tr>\n",
       "    <tr>\n",
       "      <th>53</th>\n",
       "      <td>2</td>\n",
       "      <td>prompt_CFSLH.txt</td>\n",
       "      <td>similarity</td>\n",
       "      <td>'Ashley , 35 anni , è stata uccisa dal suo con...</td>\n",
       "      <td>10</td>\n",
       "    </tr>\n",
       "    <tr>\n",
       "      <th>54</th>\n",
       "      <td>0</td>\n",
       "      <td>prompt_CFSLH.txt</td>\n",
       "      <td>similarity</td>\n",
       "      <td>'Nella notte tra sabato e domenica , nel picco...</td>\n",
       "      <td>8</td>\n",
       "    </tr>\n",
       "    <tr>\n",
       "      <th>55</th>\n",
       "      <td>1</td>\n",
       "      <td>prompt_CFSLH.txt</td>\n",
       "      <td>similarity</td>\n",
       "      <td>'Nella notte tra sabato e domenica , nel picco...</td>\n",
       "      <td>9</td>\n",
       "    </tr>\n",
       "    <tr>\n",
       "      <th>56</th>\n",
       "      <td>2</td>\n",
       "      <td>prompt_CFSLH.txt</td>\n",
       "      <td>similarity</td>\n",
       "      <td>'Nella notte tra sabato e domenica , nel picco...</td>\n",
       "      <td>10</td>\n",
       "    </tr>\n",
       "    <tr>\n",
       "      <th>57</th>\n",
       "      <td>0</td>\n",
       "      <td>prompt_CFSLH.txt</td>\n",
       "      <td>similarity</td>\n",
       "      <td>`` Quella folle manovra sulla tangenziale di N...</td>\n",
       "      <td>7</td>\n",
       "    </tr>\n",
       "    <tr>\n",
       "      <th>58</th>\n",
       "      <td>1</td>\n",
       "      <td>prompt_CFSLH.txt</td>\n",
       "      <td>similarity</td>\n",
       "      <td>`` Quella folle manovra sulla tangenziale di N...</td>\n",
       "      <td>5</td>\n",
       "    </tr>\n",
       "    <tr>\n",
       "      <th>59</th>\n",
       "      <td>2</td>\n",
       "      <td>prompt_CFSLH.txt</td>\n",
       "      <td>similarity</td>\n",
       "      <td>`` Quella folle manovra sulla tangenziale di N...</td>\n",
       "      <td>5</td>\n",
       "    </tr>\n",
       "  </tbody>\n",
       "</table>\n",
       "</div>"
      ],
      "text/plain": [
       "    user_id               model     category  \\\n",
       "0         0  prompt_CFSLH-B.txt  perspective   \n",
       "1         1  prompt_CFSLH-B.txt  perspective   \n",
       "2         2  prompt_CFSLH-B.txt  perspective   \n",
       "3         0  prompt_CFSLH-B.txt  perspective   \n",
       "4         1  prompt_CFSLH-B.txt  perspective   \n",
       "5         2  prompt_CFSLH-B.txt  perspective   \n",
       "6         0  prompt_CFSLH-B.txt  perspective   \n",
       "7         1  prompt_CFSLH-B.txt  perspective   \n",
       "8         2  prompt_CFSLH-B.txt  perspective   \n",
       "9         0  prompt_CFSLH-B.txt  perspective   \n",
       "10        1  prompt_CFSLH-B.txt  perspective   \n",
       "11        2  prompt_CFSLH-B.txt  perspective   \n",
       "12        0  prompt_CFSLH-B.txt  perspective   \n",
       "13        1  prompt_CFSLH-B.txt  perspective   \n",
       "14        2  prompt_CFSLH-B.txt  perspective   \n",
       "15        0  prompt_CFSLH-B.txt   similarity   \n",
       "16        1  prompt_CFSLH-B.txt   similarity   \n",
       "17        2  prompt_CFSLH-B.txt   similarity   \n",
       "18        0  prompt_CFSLH-B.txt   similarity   \n",
       "19        1  prompt_CFSLH-B.txt   similarity   \n",
       "20        2  prompt_CFSLH-B.txt   similarity   \n",
       "21        0  prompt_CFSLH-B.txt   similarity   \n",
       "22        1  prompt_CFSLH-B.txt   similarity   \n",
       "23        2  prompt_CFSLH-B.txt   similarity   \n",
       "24        0  prompt_CFSLH-B.txt   similarity   \n",
       "25        1  prompt_CFSLH-B.txt   similarity   \n",
       "26        2  prompt_CFSLH-B.txt   similarity   \n",
       "27        0  prompt_CFSLH-B.txt   similarity   \n",
       "28        1  prompt_CFSLH-B.txt   similarity   \n",
       "29        2  prompt_CFSLH-B.txt   similarity   \n",
       "30        0    prompt_CFSLH.txt  perspective   \n",
       "31        1    prompt_CFSLH.txt  perspective   \n",
       "32        2    prompt_CFSLH.txt  perspective   \n",
       "33        0    prompt_CFSLH.txt  perspective   \n",
       "34        1    prompt_CFSLH.txt  perspective   \n",
       "35        2    prompt_CFSLH.txt  perspective   \n",
       "36        0    prompt_CFSLH.txt  perspective   \n",
       "37        1    prompt_CFSLH.txt  perspective   \n",
       "38        2    prompt_CFSLH.txt  perspective   \n",
       "39        0    prompt_CFSLH.txt  perspective   \n",
       "40        1    prompt_CFSLH.txt  perspective   \n",
       "41        2    prompt_CFSLH.txt  perspective   \n",
       "42        0    prompt_CFSLH.txt  perspective   \n",
       "43        1    prompt_CFSLH.txt  perspective   \n",
       "44        2    prompt_CFSLH.txt  perspective   \n",
       "45        0    prompt_CFSLH.txt   similarity   \n",
       "46        1    prompt_CFSLH.txt   similarity   \n",
       "47        2    prompt_CFSLH.txt   similarity   \n",
       "48        0    prompt_CFSLH.txt   similarity   \n",
       "49        1    prompt_CFSLH.txt   similarity   \n",
       "50        2    prompt_CFSLH.txt   similarity   \n",
       "51        0    prompt_CFSLH.txt   similarity   \n",
       "52        1    prompt_CFSLH.txt   similarity   \n",
       "53        2    prompt_CFSLH.txt   similarity   \n",
       "54        0    prompt_CFSLH.txt   similarity   \n",
       "55        1    prompt_CFSLH.txt   similarity   \n",
       "56        2    prompt_CFSLH.txt   similarity   \n",
       "57        0    prompt_CFSLH.txt   similarity   \n",
       "58        1    prompt_CFSLH.txt   similarity   \n",
       "59        2    prompt_CFSLH.txt   similarity   \n",
       "\n",
       "                                             sentence  score  \n",
       "0   Non c'è alcuna giustificazione per l'omicidio ...      7  \n",
       "1   Non c'è alcuna giustificazione per l'omicidio ...      6  \n",
       "2   Non c'è alcuna giustificazione per l'omicidio ...     10  \n",
       "3        'La tabaccaia uccisa sarà oggi la sentenza.'      2  \n",
       "4        'La tabaccaia uccisa sarà oggi la sentenza.'      0  \n",
       "5        'La tabaccaia uccisa sarà oggi la sentenza.'      0  \n",
       "6   'L'omicidio di Ashley è un altro tragico esemp...      6  \n",
       "7   'L'omicidio di Ashley è un altro tragico esemp...      7  \n",
       "8   'L'omicidio di Ashley è un altro tragico esemp...      0  \n",
       "9   'Liliana è stata uccisa nel piccolo parcheggio...      6  \n",
       "10  'Liliana è stata uccisa nel piccolo parcheggio...      4  \n",
       "11  'Liliana è stata uccisa nel piccolo parcheggio...      5  \n",
       "12  `` Quella folle manovra sulla tangenziale di N...      5  \n",
       "13  `` Quella folle manovra sulla tangenziale di N...      0  \n",
       "14  `` Quella folle manovra sulla tangenziale di N...      0  \n",
       "15  Non c'è alcuna giustificazione per l'omicidio ...      0  \n",
       "16  Non c'è alcuna giustificazione per l'omicidio ...      2  \n",
       "17  Non c'è alcuna giustificazione per l'omicidio ...      1  \n",
       "18       'La tabaccaia uccisa sarà oggi la sentenza.'     10  \n",
       "19       'La tabaccaia uccisa sarà oggi la sentenza.'     10  \n",
       "20       'La tabaccaia uccisa sarà oggi la sentenza.'      9  \n",
       "21  'L'omicidio di Ashley è un altro tragico esemp...      0  \n",
       "22  'L'omicidio di Ashley è un altro tragico esemp...      5  \n",
       "23  'L'omicidio di Ashley è un altro tragico esemp...      9  \n",
       "24  'Liliana è stata uccisa nel piccolo parcheggio...      7  \n",
       "25  'Liliana è stata uccisa nel piccolo parcheggio...      7  \n",
       "26  'Liliana è stata uccisa nel piccolo parcheggio...     10  \n",
       "27  `` Quella folle manovra sulla tangenziale di N...      3  \n",
       "28  `` Quella folle manovra sulla tangenziale di N...      4  \n",
       "29  `` Quella folle manovra sulla tangenziale di N...      2  \n",
       "30  L'omicida femminicida , dopo aver ucciso , non...      8  \n",
       "31  L'omicida femminicida , dopo aver ucciso , non...      6  \n",
       "32  L'omicida femminicida , dopo aver ucciso , non...     10  \n",
       "33  'L'uomo che ha ucciso la tabaccaia verrà giudi...      9  \n",
       "34  'L'uomo che ha ucciso la tabaccaia verrà giudi...      5  \n",
       "35  'L'uomo che ha ucciso la tabaccaia verrà giudi...     10  \n",
       "36  'Ashley , 35 anni , è stata uccisa dal suo con...      7  \n",
       "37  'Ashley , 35 anni , è stata uccisa dal suo con...      1  \n",
       "38  'Ashley , 35 anni , è stata uccisa dal suo con...      3  \n",
       "39  'Nella notte tra sabato e domenica , nel picco...      6  \n",
       "40  'Nella notte tra sabato e domenica , nel picco...      3  \n",
       "41  'Nella notte tra sabato e domenica , nel picco...      0  \n",
       "42  `` Quella folle manovra sulla tangenziale di N...      6  \n",
       "43  `` Quella folle manovra sulla tangenziale di N...      4  \n",
       "44  `` Quella folle manovra sulla tangenziale di N...      0  \n",
       "45  L'omicida femminicida , dopo aver ucciso , non...      8  \n",
       "46  L'omicida femminicida , dopo aver ucciso , non...      4  \n",
       "47  L'omicida femminicida , dopo aver ucciso , non...      0  \n",
       "48  'L'uomo che ha ucciso la tabaccaia verrà giudi...      3  \n",
       "49  'L'uomo che ha ucciso la tabaccaia verrà giudi...      7  \n",
       "50  'L'uomo che ha ucciso la tabaccaia verrà giudi...     10  \n",
       "51  'Ashley , 35 anni , è stata uccisa dal suo con...      9  \n",
       "52  'Ashley , 35 anni , è stata uccisa dal suo con...      9  \n",
       "53  'Ashley , 35 anni , è stata uccisa dal suo con...     10  \n",
       "54  'Nella notte tra sabato e domenica , nel picco...      8  \n",
       "55  'Nella notte tra sabato e domenica , nel picco...      9  \n",
       "56  'Nella notte tra sabato e domenica , nel picco...     10  \n",
       "57  `` Quella folle manovra sulla tangenziale di N...      7  \n",
       "58  `` Quella folle manovra sulla tangenziale di N...      5  \n",
       "59  `` Quella folle manovra sulla tangenziale di N...      5  "
      ]
     },
     "execution_count": 2,
     "metadata": {},
     "output_type": "execute_result"
    }
   ],
   "source": [
    "REPO_DIR = \"...\"\n",
    "\n",
    "import os\n",
    "import pandas as pd\n",
    "os.chdir(REPO_DIR)\n",
    "responses = pd.read_csv(\"output/questionnaire/responses.processed.fewshot.csv\", index_col=0)\n",
    "responses"
   ]
  },
  {
   "attachments": {},
   "cell_type": "markdown",
   "metadata": {},
   "source": [
    "### Mean scores"
   ]
  },
  {
   "cell_type": "code",
   "execution_count": 3,
   "metadata": {},
   "outputs": [
    {
     "name": "stdout",
     "output_type": "stream",
     "text": [
      "                       score\n",
      "model                       \n",
      "prompt_CFSLH-B.txt  3.866667\n",
      "prompt_CFSLH.txt    5.200000\n"
     ]
    },
    {
     "data": {
      "text/plain": [
       "<AxesSubplot:xlabel='model'>"
      ]
     },
     "execution_count": 3,
     "metadata": {},
     "output_type": "execute_result"
    },
    {
     "data": {
      "image/png": "[encoded data removed]",
      "text/plain": [
       "<Figure size 432x288 with 1 Axes>"
      ]
     },
     "metadata": {
      "needs_background": "light"
     },
     "output_type": "display_data"
    }
   ],
   "source": [
    "persp_mean = (\n",
    "    responses[responses[\"category\"] == \"perspective\"]\n",
    "    .groupby(\"model\")\n",
    "    .agg({\"score\": \"mean\"})\n",
    ")\n",
    "\n",
    "print(persp_mean)\n",
    "\n",
    "persp_mean.plot.bar()"
   ]
  },
  {
   "cell_type": "code",
   "execution_count": 4,
   "metadata": {},
   "outputs": [
    {
     "name": "stdout",
     "output_type": "stream",
     "text": [
      "                       score\n",
      "model                       \n",
      "prompt_CFSLH-B.txt  5.266667\n",
      "prompt_CFSLH.txt    6.933333\n"
     ]
    },
    {
     "data": {
      "text/plain": [
       "<AxesSubplot:xlabel='model'>"
      ]
     },
     "execution_count": 4,
     "metadata": {},
     "output_type": "execute_result"
    },
    {
     "data": {
      "image/png": "[encoded data removed]",
      "text/plain": [
       "<Figure size 432x288 with 1 Axes>"
      ]
     },
     "metadata": {
      "needs_background": "light"
     },
     "output_type": "display_data"
    }
   ],
   "source": [
    "sim_mean = (\n",
    "    responses[responses[\"category\"] == \"similarity\"]\n",
    "    .groupby(\"model\")\n",
    "    .agg({\"score\": \"mean\"})\n",
    ")\n",
    "\n",
    "print(sim_mean)\n",
    "\n",
    "sim_mean.plot.bar()"
   ]
  },
  {
   "attachments": {},
   "cell_type": "markdown",
   "metadata": {},
   "source": [
    "### Agreement"
   ]
  },
  {
   "cell_type": "code",
   "execution_count": 4,
   "metadata": {},
   "outputs": [
    {
     "data": {
      "text/plain": [
       "<AxesSubplot:xlabel='model'>"
      ]
     },
     "execution_count": 4,
     "metadata": {},
     "output_type": "execute_result"
    },
    {
     "data": {
      "image/png": "[encoded data removed]",
      "text/plain": [
       "<Figure size 432x288 with 1 Axes>"
      ]
     },
     "metadata": {
      "needs_background": "light"
     },
     "output_type": "display_data"
    }
   ],
   "source": [
    "(\n",
    "    responses[responses[\"category\"] == \"perspective\"]\n",
    "    .groupby(\"model\")\n",
    "    .agg({\"score\": \"std\"})\n",
    "    .plot.bar()\n",
    ")"
   ]
  },
  {
   "cell_type": "code",
   "execution_count": 5,
   "metadata": {},
   "outputs": [
    {
     "data": {
      "text/plain": [
       "<AxesSubplot:xlabel='model'>"
      ]
     },
     "execution_count": 5,
     "metadata": {},
     "output_type": "execute_result"
    },
    {
     "data": {
      "image/png": "[encoded data removed]",
      "text/plain": [
       "<Figure size 432x288 with 1 Axes>"
      ]
     },
     "metadata": {
      "needs_background": "light"
     },
     "output_type": "display_data"
    }
   ],
   "source": [
    "(\n",
    "    responses[responses[\"category\"] == \"similarity\"]\n",
    "    .groupby(\"model\")\n",
    "    .agg({\"score\": \"std\"})\n",
    "    .plot.bar()\n",
    ")"
   ]
  },
  {
   "cell_type": "code",
   "execution_count": 6,
   "metadata": {},
   "outputs": [],
   "source": [
    "from scipy import stats"
   ]
  },
  {
   "cell_type": "code",
   "execution_count": 7,
   "metadata": {},
   "outputs": [
    {
     "data": {
      "text/plain": [
       "<AxesSubplot:xlabel='user_id'>"
      ]
     },
     "execution_count": 7,
     "metadata": {},
     "output_type": "execute_result"
    },
    {
     "data": {
      "image/png": "[encoded data removed]",
      "text/plain": [
       "<Figure size 432x288 with 1 Axes>"
      ]
     },
     "metadata": {
      "needs_background": "light"
     },
     "output_type": "display_data"
    }
   ],
   "source": [
    "(\n",
    "    responses[responses[\"category\"] == \"perspective\"]\n",
    "    .groupby(\"user_id\")\n",
    "    .agg({\"score\": \"mean\"})\n",
    "    .plot.bar()\n",
    ")"
   ]
  },
  {
   "cell_type": "code",
   "execution_count": 8,
   "metadata": {},
   "outputs": [
    {
     "data": {
      "text/plain": [
       "<AxesSubplot:xlabel='user_id'>"
      ]
     },
     "execution_count": 8,
     "metadata": {},
     "output_type": "execute_result"
    },
    {
     "data": {
      "image/png": "[encoded data removed]",
      "text/plain": [
       "<Figure size 432x288 with 1 Axes>"
      ]
     },
     "metadata": {
      "needs_background": "light"
     },
     "output_type": "display_data"
    }
   ],
   "source": [
    "(\n",
    "    responses[responses[\"category\"] == \"similarity\"]\n",
    "    .groupby(\"user_id\")\n",
    "    .agg({\"score\": \"mean\"})\n",
    "    .plot.bar()\n",
    ")"
   ]
  },
  {
   "attachments": {},
   "cell_type": "markdown",
   "metadata": {},
   "source": [
    "#### Perspective scores"
   ]
  },
  {
   "cell_type": "code",
   "execution_count": 35,
   "metadata": {},
   "outputs": [
    {
     "data": {
      "text/html": [
       "<pre style=\"white-space:pre;overflow-x:auto;line-height:normal;font-family:Menlo,'DejaVu Sans Mono',consolas,'Courier New',monospace\"><span style=\"font-weight: bold\">[[</span> <span style=\"color: #008080; text-decoration-color: #008080; font-weight: bold\">7</span>  <span style=\"color: #008080; text-decoration-color: #008080; font-weight: bold\">6</span> <span style=\"color: #008080; text-decoration-color: #008080; font-weight: bold\">10</span><span style=\"font-weight: bold\">]</span>\n",
       " <span style=\"font-weight: bold\">[</span> <span style=\"color: #008080; text-decoration-color: #008080; font-weight: bold\">2</span>  <span style=\"color: #008080; text-decoration-color: #008080; font-weight: bold\">0</span>  <span style=\"color: #008080; text-decoration-color: #008080; font-weight: bold\">0</span><span style=\"font-weight: bold\">]</span>\n",
       " <span style=\"font-weight: bold\">[</span> <span style=\"color: #008080; text-decoration-color: #008080; font-weight: bold\">6</span>  <span style=\"color: #008080; text-decoration-color: #008080; font-weight: bold\">7</span>  <span style=\"color: #008080; text-decoration-color: #008080; font-weight: bold\">0</span><span style=\"font-weight: bold\">]</span>\n",
       " <span style=\"font-weight: bold\">[</span> <span style=\"color: #008080; text-decoration-color: #008080; font-weight: bold\">6</span>  <span style=\"color: #008080; text-decoration-color: #008080; font-weight: bold\">4</span>  <span style=\"color: #008080; text-decoration-color: #008080; font-weight: bold\">5</span><span style=\"font-weight: bold\">]</span>\n",
       " <span style=\"font-weight: bold\">[</span> <span style=\"color: #008080; text-decoration-color: #008080; font-weight: bold\">5</span>  <span style=\"color: #008080; text-decoration-color: #008080; font-weight: bold\">0</span>  <span style=\"color: #008080; text-decoration-color: #008080; font-weight: bold\">0</span><span style=\"font-weight: bold\">]</span>\n",
       " <span style=\"font-weight: bold\">[</span> <span style=\"color: #008080; text-decoration-color: #008080; font-weight: bold\">8</span>  <span style=\"color: #008080; text-decoration-color: #008080; font-weight: bold\">6</span> <span style=\"color: #008080; text-decoration-color: #008080; font-weight: bold\">10</span><span style=\"font-weight: bold\">]</span>\n",
       " <span style=\"font-weight: bold\">[</span> <span style=\"color: #008080; text-decoration-color: #008080; font-weight: bold\">9</span>  <span style=\"color: #008080; text-decoration-color: #008080; font-weight: bold\">5</span> <span style=\"color: #008080; text-decoration-color: #008080; font-weight: bold\">10</span><span style=\"font-weight: bold\">]</span>\n",
       " <span style=\"font-weight: bold\">[</span> <span style=\"color: #008080; text-decoration-color: #008080; font-weight: bold\">7</span>  <span style=\"color: #008080; text-decoration-color: #008080; font-weight: bold\">1</span>  <span style=\"color: #008080; text-decoration-color: #008080; font-weight: bold\">3</span><span style=\"font-weight: bold\">]</span>\n",
       " <span style=\"font-weight: bold\">[</span> <span style=\"color: #008080; text-decoration-color: #008080; font-weight: bold\">6</span>  <span style=\"color: #008080; text-decoration-color: #008080; font-weight: bold\">3</span>  <span style=\"color: #008080; text-decoration-color: #008080; font-weight: bold\">0</span><span style=\"font-weight: bold\">]</span>\n",
       " <span style=\"font-weight: bold\">[</span> <span style=\"color: #008080; text-decoration-color: #008080; font-weight: bold\">6</span>  <span style=\"color: #008080; text-decoration-color: #008080; font-weight: bold\">4</span>  <span style=\"color: #008080; text-decoration-color: #008080; font-weight: bold\">0</span><span style=\"font-weight: bold\">]]</span>\n",
       "</pre>\n"
      ],
      "text/plain": [
       "\u001b[1m[\u001b[0m\u001b[1m[\u001b[0m \u001b[1;36m7\u001b[0m  \u001b[1;36m6\u001b[0m \u001b[1;36m10\u001b[0m\u001b[1m]\u001b[0m\n",
       " \u001b[1m[\u001b[0m \u001b[1;36m2\u001b[0m  \u001b[1;36m0\u001b[0m  \u001b[1;36m0\u001b[0m\u001b[1m]\u001b[0m\n",
       " \u001b[1m[\u001b[0m \u001b[1;36m6\u001b[0m  \u001b[1;36m7\u001b[0m  \u001b[1;36m0\u001b[0m\u001b[1m]\u001b[0m\n",
       " \u001b[1m[\u001b[0m \u001b[1;36m6\u001b[0m  \u001b[1;36m4\u001b[0m  \u001b[1;36m5\u001b[0m\u001b[1m]\u001b[0m\n",
       " \u001b[1m[\u001b[0m \u001b[1;36m5\u001b[0m  \u001b[1;36m0\u001b[0m  \u001b[1;36m0\u001b[0m\u001b[1m]\u001b[0m\n",
       " \u001b[1m[\u001b[0m \u001b[1;36m8\u001b[0m  \u001b[1;36m6\u001b[0m \u001b[1;36m10\u001b[0m\u001b[1m]\u001b[0m\n",
       " \u001b[1m[\u001b[0m \u001b[1;36m9\u001b[0m  \u001b[1;36m5\u001b[0m \u001b[1;36m10\u001b[0m\u001b[1m]\u001b[0m\n",
       " \u001b[1m[\u001b[0m \u001b[1;36m7\u001b[0m  \u001b[1;36m1\u001b[0m  \u001b[1;36m3\u001b[0m\u001b[1m]\u001b[0m\n",
       " \u001b[1m[\u001b[0m \u001b[1;36m6\u001b[0m  \u001b[1;36m3\u001b[0m  \u001b[1;36m0\u001b[0m\u001b[1m]\u001b[0m\n",
       " \u001b[1m[\u001b[0m \u001b[1;36m6\u001b[0m  \u001b[1;36m4\u001b[0m  \u001b[1;36m0\u001b[0m\u001b[1m]\u001b[0m\u001b[1m]\u001b[0m\n"
      ]
     },
     "metadata": {},
     "output_type": "display_data"
    },
    {
     "data": {
      "text/html": [
       "<pre style=\"white-space:pre;overflow-x:auto;line-height:normal;font-family:Menlo,'DejaVu Sans Mono',consolas,'Courier New',monospace\"><span style=\"font-weight: bold\">(</span><span style=\"color: #008080; text-decoration-color: #008080; font-weight: bold\">10</span>, <span style=\"color: #008080; text-decoration-color: #008080; font-weight: bold\">3</span><span style=\"font-weight: bold\">)</span>\n",
       "</pre>\n"
      ],
      "text/plain": [
       "\u001b[1m(\u001b[0m\u001b[1;36m10\u001b[0m, \u001b[1;36m3\u001b[0m\u001b[1m)\u001b[0m\n"
      ]
     },
     "metadata": {},
     "output_type": "display_data"
    },
    {
     "data": {
      "text/html": [
       "<pre style=\"white-space:pre;overflow-x:auto;line-height:normal;font-family:Menlo,'DejaVu Sans Mono',consolas,'Courier New',monospace\"><span style=\"font-weight: bold\">[[</span><span style=\"color: #008080; text-decoration-color: #008080; font-weight: bold\">1</span>.         <span style=\"color: #008080; text-decoration-color: #008080; font-weight: bold\">0.59829303</span> <span style=\"color: #008080; text-decoration-color: #008080; font-weight: bold\">0.84149544</span><span style=\"font-weight: bold\">]</span>\n",
       " <span style=\"font-weight: bold\">[</span><span style=\"color: #008080; text-decoration-color: #008080; font-weight: bold\">0.59829303</span> <span style=\"color: #008080; text-decoration-color: #008080; font-weight: bold\">1</span>.         <span style=\"color: #008080; text-decoration-color: #008080; font-weight: bold\">0.49624278</span><span style=\"font-weight: bold\">]</span>\n",
       " <span style=\"font-weight: bold\">[</span><span style=\"color: #008080; text-decoration-color: #008080; font-weight: bold\">0.84149544</span> <span style=\"color: #008080; text-decoration-color: #008080; font-weight: bold\">0.49624278</span> <span style=\"color: #008080; text-decoration-color: #008080; font-weight: bold\">1</span>.        <span style=\"font-weight: bold\">]]</span>\n",
       "</pre>\n"
      ],
      "text/plain": [
       "\u001b[1m[\u001b[0m\u001b[1m[\u001b[0m\u001b[1;36m1\u001b[0m.         \u001b[1;36m0.59829303\u001b[0m \u001b[1;36m0.84149544\u001b[0m\u001b[1m]\u001b[0m\n",
       " \u001b[1m[\u001b[0m\u001b[1;36m0.59829303\u001b[0m \u001b[1;36m1\u001b[0m.         \u001b[1;36m0.49624278\u001b[0m\u001b[1m]\u001b[0m\n",
       " \u001b[1m[\u001b[0m\u001b[1;36m0.84149544\u001b[0m \u001b[1;36m0.49624278\u001b[0m \u001b[1;36m1\u001b[0m.        \u001b[1m]\u001b[0m\u001b[1m]\u001b[0m\n"
      ]
     },
     "metadata": {},
     "output_type": "display_data"
    }
   ],
   "source": [
    "import numpy as np\n",
    "from rich import print\n",
    "\n",
    "observations = np.array(\n",
    "    responses\n",
    "    [(responses[\"category\"] == \"perspective\")]\n",
    "    .groupby(\"user_id\")\n",
    "    [\"score\"]\n",
    "    .apply(np.array)\n",
    "    .to_list()\n",
    ").T\n",
    "\n",
    "print(observations)\n",
    "print(observations.shape)\n",
    "corr, p_vals = stats.spearmanr(observations)\n",
    "print(corr)"
   ]
  },
  {
   "cell_type": "code",
   "execution_count": 36,
   "metadata": {},
   "outputs": [
    {
     "data": {
      "text/html": [
       "<pre style=\"white-space:pre;overflow-x:auto;line-height:normal;font-family:Menlo,'DejaVu Sans Mono',consolas,'Courier New',monospace\"><span style=\"font-weight: bold\">[[</span><span style=\"color: #008080; text-decoration-color: #008080; font-weight: bold\">0</span>.         <span style=\"color: #008080; text-decoration-color: #008080; font-weight: bold\">0.06767155</span> <span style=\"color: #008080; text-decoration-color: #008080; font-weight: bold\">0.00227015</span><span style=\"font-weight: bold\">]</span>\n",
       " <span style=\"font-weight: bold\">[</span><span style=\"color: #008080; text-decoration-color: #008080; font-weight: bold\">0.06767155</span> <span style=\"color: #008080; text-decoration-color: #008080; font-weight: bold\">0</span>.         <span style=\"color: #008080; text-decoration-color: #008080; font-weight: bold\">0.14460672</span><span style=\"font-weight: bold\">]</span>\n",
       " <span style=\"font-weight: bold\">[</span><span style=\"color: #008080; text-decoration-color: #008080; font-weight: bold\">0.00227015</span> <span style=\"color: #008080; text-decoration-color: #008080; font-weight: bold\">0.14460672</span> <span style=\"color: #008080; text-decoration-color: #008080; font-weight: bold\">0</span>.        <span style=\"font-weight: bold\">]]</span>\n",
       "</pre>\n"
      ],
      "text/plain": [
       "\u001b[1m[\u001b[0m\u001b[1m[\u001b[0m\u001b[1;36m0\u001b[0m.         \u001b[1;36m0.06767155\u001b[0m \u001b[1;36m0.00227015\u001b[0m\u001b[1m]\u001b[0m\n",
       " \u001b[1m[\u001b[0m\u001b[1;36m0.06767155\u001b[0m \u001b[1;36m0\u001b[0m.         \u001b[1;36m0.14460672\u001b[0m\u001b[1m]\u001b[0m\n",
       " \u001b[1m[\u001b[0m\u001b[1;36m0.00227015\u001b[0m \u001b[1;36m0.14460672\u001b[0m \u001b[1;36m0\u001b[0m.        \u001b[1m]\u001b[0m\u001b[1m]\u001b[0m\n"
      ]
     },
     "metadata": {},
     "output_type": "display_data"
    },
    {
     "data": {
      "text/html": [
       "<pre style=\"white-space:pre;overflow-x:auto;line-height:normal;font-family:Menlo,'DejaVu Sans Mono',consolas,'Courier New',monospace\"><span style=\"font-weight: bold\">[[</span> <span style=\"color: #00ff00; text-decoration-color: #00ff00; font-style: italic\">True</span> <span style=\"color: #ff0000; text-decoration-color: #ff0000; font-style: italic\">False</span>  <span style=\"color: #00ff00; text-decoration-color: #00ff00; font-style: italic\">True</span><span style=\"font-weight: bold\">]</span>\n",
       " <span style=\"font-weight: bold\">[</span><span style=\"color: #ff0000; text-decoration-color: #ff0000; font-style: italic\">False</span>  <span style=\"color: #00ff00; text-decoration-color: #00ff00; font-style: italic\">True</span> <span style=\"color: #ff0000; text-decoration-color: #ff0000; font-style: italic\">False</span><span style=\"font-weight: bold\">]</span>\n",
       " <span style=\"font-weight: bold\">[</span> <span style=\"color: #00ff00; text-decoration-color: #00ff00; font-style: italic\">True</span> <span style=\"color: #ff0000; text-decoration-color: #ff0000; font-style: italic\">False</span>  <span style=\"color: #00ff00; text-decoration-color: #00ff00; font-style: italic\">True</span><span style=\"font-weight: bold\">]]</span>\n",
       "</pre>\n"
      ],
      "text/plain": [
       "\u001b[1m[\u001b[0m\u001b[1m[\u001b[0m \u001b[3;92mTrue\u001b[0m \u001b[3;91mFalse\u001b[0m  \u001b[3;92mTrue\u001b[0m\u001b[1m]\u001b[0m\n",
       " \u001b[1m[\u001b[0m\u001b[3;91mFalse\u001b[0m  \u001b[3;92mTrue\u001b[0m \u001b[3;91mFalse\u001b[0m\u001b[1m]\u001b[0m\n",
       " \u001b[1m[\u001b[0m \u001b[3;92mTrue\u001b[0m \u001b[3;91mFalse\u001b[0m  \u001b[3;92mTrue\u001b[0m\u001b[1m]\u001b[0m\u001b[1m]\u001b[0m\n"
      ]
     },
     "metadata": {},
     "output_type": "display_data"
    },
    {
     "data": {
      "text/html": [
       "<pre style=\"white-space:pre;overflow-x:auto;line-height:normal;font-family:Menlo,'DejaVu Sans Mono',consolas,'Courier New',monospace\"><span style=\"font-weight: bold\">[[</span> <span style=\"color: #00ff00; text-decoration-color: #00ff00; font-style: italic\">True</span> <span style=\"color: #ff0000; text-decoration-color: #ff0000; font-style: italic\">False</span>  <span style=\"color: #00ff00; text-decoration-color: #00ff00; font-style: italic\">True</span><span style=\"font-weight: bold\">]</span>\n",
       " <span style=\"font-weight: bold\">[</span><span style=\"color: #ff0000; text-decoration-color: #ff0000; font-style: italic\">False</span>  <span style=\"color: #00ff00; text-decoration-color: #00ff00; font-style: italic\">True</span> <span style=\"color: #ff0000; text-decoration-color: #ff0000; font-style: italic\">False</span><span style=\"font-weight: bold\">]</span>\n",
       " <span style=\"font-weight: bold\">[</span> <span style=\"color: #00ff00; text-decoration-color: #00ff00; font-style: italic\">True</span> <span style=\"color: #ff0000; text-decoration-color: #ff0000; font-style: italic\">False</span>  <span style=\"color: #00ff00; text-decoration-color: #00ff00; font-style: italic\">True</span><span style=\"font-weight: bold\">]]</span>\n",
       "</pre>\n"
      ],
      "text/plain": [
       "\u001b[1m[\u001b[0m\u001b[1m[\u001b[0m \u001b[3;92mTrue\u001b[0m \u001b[3;91mFalse\u001b[0m  \u001b[3;92mTrue\u001b[0m\u001b[1m]\u001b[0m\n",
       " \u001b[1m[\u001b[0m\u001b[3;91mFalse\u001b[0m  \u001b[3;92mTrue\u001b[0m \u001b[3;91mFalse\u001b[0m\u001b[1m]\u001b[0m\n",
       " \u001b[1m[\u001b[0m \u001b[3;92mTrue\u001b[0m \u001b[3;91mFalse\u001b[0m  \u001b[3;92mTrue\u001b[0m\u001b[1m]\u001b[0m\u001b[1m]\u001b[0m\n"
      ]
     },
     "metadata": {},
     "output_type": "display_data"
    },
    {
     "data": {
      "text/html": [
       "<pre style=\"white-space:pre;overflow-x:auto;line-height:normal;font-family:Menlo,'DejaVu Sans Mono',consolas,'Courier New',monospace\"><span style=\"font-weight: bold\">[[</span> <span style=\"color: #00ff00; text-decoration-color: #00ff00; font-style: italic\">True</span> <span style=\"color: #ff0000; text-decoration-color: #ff0000; font-style: italic\">False</span> <span style=\"color: #ff0000; text-decoration-color: #ff0000; font-style: italic\">False</span><span style=\"font-weight: bold\">]</span>\n",
       " <span style=\"font-weight: bold\">[</span><span style=\"color: #ff0000; text-decoration-color: #ff0000; font-style: italic\">False</span>  <span style=\"color: #00ff00; text-decoration-color: #00ff00; font-style: italic\">True</span> <span style=\"color: #ff0000; text-decoration-color: #ff0000; font-style: italic\">False</span><span style=\"font-weight: bold\">]</span>\n",
       " <span style=\"font-weight: bold\">[</span><span style=\"color: #ff0000; text-decoration-color: #ff0000; font-style: italic\">False</span> <span style=\"color: #ff0000; text-decoration-color: #ff0000; font-style: italic\">False</span>  <span style=\"color: #00ff00; text-decoration-color: #00ff00; font-style: italic\">True</span><span style=\"font-weight: bold\">]]</span>\n",
       "</pre>\n"
      ],
      "text/plain": [
       "\u001b[1m[\u001b[0m\u001b[1m[\u001b[0m \u001b[3;92mTrue\u001b[0m \u001b[3;91mFalse\u001b[0m \u001b[3;91mFalse\u001b[0m\u001b[1m]\u001b[0m\n",
       " \u001b[1m[\u001b[0m\u001b[3;91mFalse\u001b[0m  \u001b[3;92mTrue\u001b[0m \u001b[3;91mFalse\u001b[0m\u001b[1m]\u001b[0m\n",
       " \u001b[1m[\u001b[0m\u001b[3;91mFalse\u001b[0m \u001b[3;91mFalse\u001b[0m  \u001b[3;92mTrue\u001b[0m\u001b[1m]\u001b[0m\u001b[1m]\u001b[0m\n"
      ]
     },
     "metadata": {},
     "output_type": "display_data"
    },
    {
     "data": {
      "text/html": [
       "<pre style=\"white-space:pre;overflow-x:auto;line-height:normal;font-family:Menlo,'DejaVu Sans Mono',consolas,'Courier New',monospace\"><span style=\"font-weight: bold\">[[</span> <span style=\"color: #00ff00; text-decoration-color: #00ff00; font-style: italic\">True</span> <span style=\"color: #ff0000; text-decoration-color: #ff0000; font-style: italic\">False</span> <span style=\"color: #ff0000; text-decoration-color: #ff0000; font-style: italic\">False</span><span style=\"font-weight: bold\">]</span>\n",
       " <span style=\"font-weight: bold\">[</span><span style=\"color: #ff0000; text-decoration-color: #ff0000; font-style: italic\">False</span>  <span style=\"color: #00ff00; text-decoration-color: #00ff00; font-style: italic\">True</span> <span style=\"color: #ff0000; text-decoration-color: #ff0000; font-style: italic\">False</span><span style=\"font-weight: bold\">]</span>\n",
       " <span style=\"font-weight: bold\">[</span><span style=\"color: #ff0000; text-decoration-color: #ff0000; font-style: italic\">False</span> <span style=\"color: #ff0000; text-decoration-color: #ff0000; font-style: italic\">False</span>  <span style=\"color: #00ff00; text-decoration-color: #00ff00; font-style: italic\">True</span><span style=\"font-weight: bold\">]]</span>\n",
       "</pre>\n"
      ],
      "text/plain": [
       "\u001b[1m[\u001b[0m\u001b[1m[\u001b[0m \u001b[3;92mTrue\u001b[0m \u001b[3;91mFalse\u001b[0m \u001b[3;91mFalse\u001b[0m\u001b[1m]\u001b[0m\n",
       " \u001b[1m[\u001b[0m\u001b[3;91mFalse\u001b[0m  \u001b[3;92mTrue\u001b[0m \u001b[3;91mFalse\u001b[0m\u001b[1m]\u001b[0m\n",
       " \u001b[1m[\u001b[0m\u001b[3;91mFalse\u001b[0m \u001b[3;91mFalse\u001b[0m  \u001b[3;92mTrue\u001b[0m\u001b[1m]\u001b[0m\u001b[1m]\u001b[0m\n"
      ]
     },
     "metadata": {},
     "output_type": "display_data"
    }
   ],
   "source": [
    "print(p_vals)\n",
    "print(p_vals < 0.05)\n",
    "print(p_vals < 0.01)\n",
    "print(p_vals < 0.001)\n",
    "print(p_vals < 0.0001)"
   ]
  },
  {
   "cell_type": "code",
   "execution_count": 42,
   "metadata": {},
   "outputs": [
    {
     "data": {
      "image/png": "[encoded data removed]",
      "text/plain": [
       "<Figure size 432x288 with 2 Axes>"
      ]
     },
     "metadata": {
      "needs_background": "light"
     },
     "output_type": "display_data"
    }
   ],
   "source": [
    "import matplotlib.pyplot as plt\n",
    "import seaborn as sns\n",
    "\n",
    "sns.heatmap(corr, annot=p_vals)\n",
    "plt.show()"
   ]
  },
  {
   "cell_type": "code",
   "execution_count": 40,
   "metadata": {},
   "outputs": [
    {
     "data": {
      "text/plain": [
       "-0.08247422680412378"
      ]
     },
     "execution_count": 40,
     "metadata": {},
     "output_type": "execute_result"
    }
   ],
   "source": [
    "from statsmodels.stats import inter_rater as irr\n",
    "\n",
    "arr, categories = irr.aggregate_raters(observations)\n",
    "irr.fleiss_kappa(arr)"
   ]
  },
  {
   "attachments": {},
   "cell_type": "markdown",
   "metadata": {},
   "source": [
    "#### Similarity scores"
   ]
  },
  {
   "cell_type": "code",
   "execution_count": 43,
   "metadata": {},
   "outputs": [
    {
     "data": {
      "text/html": [
       "<pre style=\"white-space:pre;overflow-x:auto;line-height:normal;font-family:Menlo,'DejaVu Sans Mono',consolas,'Courier New',monospace\"><span style=\"font-weight: bold\">[[</span> <span style=\"color: #008080; text-decoration-color: #008080; font-weight: bold\">0</span>  <span style=\"color: #008080; text-decoration-color: #008080; font-weight: bold\">2</span>  <span style=\"color: #008080; text-decoration-color: #008080; font-weight: bold\">1</span><span style=\"font-weight: bold\">]</span>\n",
       " <span style=\"font-weight: bold\">[</span><span style=\"color: #008080; text-decoration-color: #008080; font-weight: bold\">10</span> <span style=\"color: #008080; text-decoration-color: #008080; font-weight: bold\">10</span>  <span style=\"color: #008080; text-decoration-color: #008080; font-weight: bold\">9</span><span style=\"font-weight: bold\">]</span>\n",
       " <span style=\"font-weight: bold\">[</span> <span style=\"color: #008080; text-decoration-color: #008080; font-weight: bold\">0</span>  <span style=\"color: #008080; text-decoration-color: #008080; font-weight: bold\">5</span>  <span style=\"color: #008080; text-decoration-color: #008080; font-weight: bold\">9</span><span style=\"font-weight: bold\">]</span>\n",
       " <span style=\"font-weight: bold\">[</span> <span style=\"color: #008080; text-decoration-color: #008080; font-weight: bold\">7</span>  <span style=\"color: #008080; text-decoration-color: #008080; font-weight: bold\">7</span> <span style=\"color: #008080; text-decoration-color: #008080; font-weight: bold\">10</span><span style=\"font-weight: bold\">]</span>\n",
       " <span style=\"font-weight: bold\">[</span> <span style=\"color: #008080; text-decoration-color: #008080; font-weight: bold\">3</span>  <span style=\"color: #008080; text-decoration-color: #008080; font-weight: bold\">4</span>  <span style=\"color: #008080; text-decoration-color: #008080; font-weight: bold\">2</span><span style=\"font-weight: bold\">]</span>\n",
       " <span style=\"font-weight: bold\">[</span> <span style=\"color: #008080; text-decoration-color: #008080; font-weight: bold\">8</span>  <span style=\"color: #008080; text-decoration-color: #008080; font-weight: bold\">4</span>  <span style=\"color: #008080; text-decoration-color: #008080; font-weight: bold\">0</span><span style=\"font-weight: bold\">]</span>\n",
       " <span style=\"font-weight: bold\">[</span> <span style=\"color: #008080; text-decoration-color: #008080; font-weight: bold\">3</span>  <span style=\"color: #008080; text-decoration-color: #008080; font-weight: bold\">7</span> <span style=\"color: #008080; text-decoration-color: #008080; font-weight: bold\">10</span><span style=\"font-weight: bold\">]</span>\n",
       " <span style=\"font-weight: bold\">[</span> <span style=\"color: #008080; text-decoration-color: #008080; font-weight: bold\">9</span>  <span style=\"color: #008080; text-decoration-color: #008080; font-weight: bold\">9</span> <span style=\"color: #008080; text-decoration-color: #008080; font-weight: bold\">10</span><span style=\"font-weight: bold\">]</span>\n",
       " <span style=\"font-weight: bold\">[</span> <span style=\"color: #008080; text-decoration-color: #008080; font-weight: bold\">8</span>  <span style=\"color: #008080; text-decoration-color: #008080; font-weight: bold\">9</span> <span style=\"color: #008080; text-decoration-color: #008080; font-weight: bold\">10</span><span style=\"font-weight: bold\">]</span>\n",
       " <span style=\"font-weight: bold\">[</span> <span style=\"color: #008080; text-decoration-color: #008080; font-weight: bold\">7</span>  <span style=\"color: #008080; text-decoration-color: #008080; font-weight: bold\">5</span>  <span style=\"color: #008080; text-decoration-color: #008080; font-weight: bold\">5</span><span style=\"font-weight: bold\">]]</span>\n",
       "</pre>\n"
      ],
      "text/plain": [
       "\u001b[1m[\u001b[0m\u001b[1m[\u001b[0m \u001b[1;36m0\u001b[0m  \u001b[1;36m2\u001b[0m  \u001b[1;36m1\u001b[0m\u001b[1m]\u001b[0m\n",
       " \u001b[1m[\u001b[0m\u001b[1;36m10\u001b[0m \u001b[1;36m10\u001b[0m  \u001b[1;36m9\u001b[0m\u001b[1m]\u001b[0m\n",
       " \u001b[1m[\u001b[0m \u001b[1;36m0\u001b[0m  \u001b[1;36m5\u001b[0m  \u001b[1;36m9\u001b[0m\u001b[1m]\u001b[0m\n",
       " \u001b[1m[\u001b[0m \u001b[1;36m7\u001b[0m  \u001b[1;36m7\u001b[0m \u001b[1;36m10\u001b[0m\u001b[1m]\u001b[0m\n",
       " \u001b[1m[\u001b[0m \u001b[1;36m3\u001b[0m  \u001b[1;36m4\u001b[0m  \u001b[1;36m2\u001b[0m\u001b[1m]\u001b[0m\n",
       " \u001b[1m[\u001b[0m \u001b[1;36m8\u001b[0m  \u001b[1;36m4\u001b[0m  \u001b[1;36m0\u001b[0m\u001b[1m]\u001b[0m\n",
       " \u001b[1m[\u001b[0m \u001b[1;36m3\u001b[0m  \u001b[1;36m7\u001b[0m \u001b[1;36m10\u001b[0m\u001b[1m]\u001b[0m\n",
       " \u001b[1m[\u001b[0m \u001b[1;36m9\u001b[0m  \u001b[1;36m9\u001b[0m \u001b[1;36m10\u001b[0m\u001b[1m]\u001b[0m\n",
       " \u001b[1m[\u001b[0m \u001b[1;36m8\u001b[0m  \u001b[1;36m9\u001b[0m \u001b[1;36m10\u001b[0m\u001b[1m]\u001b[0m\n",
       " \u001b[1m[\u001b[0m \u001b[1;36m7\u001b[0m  \u001b[1;36m5\u001b[0m  \u001b[1;36m5\u001b[0m\u001b[1m]\u001b[0m\u001b[1m]\u001b[0m\n"
      ]
     },
     "metadata": {},
     "output_type": "display_data"
    },
    {
     "data": {
      "text/html": [
       "<pre style=\"white-space:pre;overflow-x:auto;line-height:normal;font-family:Menlo,'DejaVu Sans Mono',consolas,'Courier New',monospace\"><span style=\"font-weight: bold\">(</span><span style=\"color: #008080; text-decoration-color: #008080; font-weight: bold\">10</span>, <span style=\"color: #008080; text-decoration-color: #008080; font-weight: bold\">3</span><span style=\"font-weight: bold\">)</span>\n",
       "</pre>\n"
      ],
      "text/plain": [
       "\u001b[1m(\u001b[0m\u001b[1;36m10\u001b[0m, \u001b[1;36m3\u001b[0m\u001b[1m)\u001b[0m\n"
      ]
     },
     "metadata": {},
     "output_type": "display_data"
    },
    {
     "data": {
      "text/html": [
       "<pre style=\"white-space:pre;overflow-x:auto;line-height:normal;font-family:Menlo,'DejaVu Sans Mono',consolas,'Courier New',monospace\"><span style=\"font-weight: bold\">[[</span><span style=\"color: #008080; text-decoration-color: #008080; font-weight: bold\">1</span>.         <span style=\"color: #008080; text-decoration-color: #008080; font-weight: bold\">0.70496894</span> <span style=\"color: #008080; text-decoration-color: #008080; font-weight: bold\">0.26038176</span><span style=\"font-weight: bold\">]</span>\n",
       " <span style=\"font-weight: bold\">[</span><span style=\"color: #008080; text-decoration-color: #008080; font-weight: bold\">0.70496894</span> <span style=\"color: #008080; text-decoration-color: #008080; font-weight: bold\">1</span>.         <span style=\"color: #008080; text-decoration-color: #008080; font-weight: bold\">0.79067144</span><span style=\"font-weight: bold\">]</span>\n",
       " <span style=\"font-weight: bold\">[</span><span style=\"color: #008080; text-decoration-color: #008080; font-weight: bold\">0.26038176</span> <span style=\"color: #008080; text-decoration-color: #008080; font-weight: bold\">0.79067144</span> <span style=\"color: #008080; text-decoration-color: #008080; font-weight: bold\">1</span>.        <span style=\"font-weight: bold\">]]</span>\n",
       "</pre>\n"
      ],
      "text/plain": [
       "\u001b[1m[\u001b[0m\u001b[1m[\u001b[0m\u001b[1;36m1\u001b[0m.         \u001b[1;36m0.70496894\u001b[0m \u001b[1;36m0.26038176\u001b[0m\u001b[1m]\u001b[0m\n",
       " \u001b[1m[\u001b[0m\u001b[1;36m0.70496894\u001b[0m \u001b[1;36m1\u001b[0m.         \u001b[1;36m0.79067144\u001b[0m\u001b[1m]\u001b[0m\n",
       " \u001b[1m[\u001b[0m\u001b[1;36m0.26038176\u001b[0m \u001b[1;36m0.79067144\u001b[0m \u001b[1;36m1\u001b[0m.        \u001b[1m]\u001b[0m\u001b[1m]\u001b[0m\n"
      ]
     },
     "metadata": {},
     "output_type": "display_data"
    },
    {
     "data": {
      "text/html": [
       "<pre style=\"white-space:pre;overflow-x:auto;line-height:normal;font-family:Menlo,'DejaVu Sans Mono',consolas,'Courier New',monospace\"><span style=\"font-weight: bold\">[[</span><span style=\"color: #008080; text-decoration-color: #008080; font-weight: bold\">0</span>.         <span style=\"color: #008080; text-decoration-color: #008080; font-weight: bold\">0.02279379</span> <span style=\"color: #008080; text-decoration-color: #008080; font-weight: bold\">0.46748645</span><span style=\"font-weight: bold\">]</span>\n",
       " <span style=\"font-weight: bold\">[</span><span style=\"color: #008080; text-decoration-color: #008080; font-weight: bold\">0.02279379</span> <span style=\"color: #008080; text-decoration-color: #008080; font-weight: bold\">0</span>.         <span style=\"color: #008080; text-decoration-color: #008080; font-weight: bold\">0.00646869</span><span style=\"font-weight: bold\">]</span>\n",
       " <span style=\"font-weight: bold\">[</span><span style=\"color: #008080; text-decoration-color: #008080; font-weight: bold\">0.46748645</span> <span style=\"color: #008080; text-decoration-color: #008080; font-weight: bold\">0.00646869</span> <span style=\"color: #008080; text-decoration-color: #008080; font-weight: bold\">0</span>.        <span style=\"font-weight: bold\">]]</span>\n",
       "</pre>\n"
      ],
      "text/plain": [
       "\u001b[1m[\u001b[0m\u001b[1m[\u001b[0m\u001b[1;36m0\u001b[0m.         \u001b[1;36m0.02279379\u001b[0m \u001b[1;36m0.46748645\u001b[0m\u001b[1m]\u001b[0m\n",
       " \u001b[1m[\u001b[0m\u001b[1;36m0.02279379\u001b[0m \u001b[1;36m0\u001b[0m.         \u001b[1;36m0.00646869\u001b[0m\u001b[1m]\u001b[0m\n",
       " \u001b[1m[\u001b[0m\u001b[1;36m0.46748645\u001b[0m \u001b[1;36m0.00646869\u001b[0m \u001b[1;36m0\u001b[0m.        \u001b[1m]\u001b[0m\u001b[1m]\u001b[0m\n"
      ]
     },
     "metadata": {},
     "output_type": "display_data"
    }
   ],
   "source": [
    "observations = np.array(\n",
    "    responses\n",
    "    [(responses[\"category\"] == \"similarity\")]\n",
    "    .groupby(\"user_id\")\n",
    "    [\"score\"]\n",
    "    .apply(np.array)\n",
    "    .to_list()\n",
    ").T\n",
    "\n",
    "print(observations)\n",
    "print(observations.shape)\n",
    "corr, p_vals = stats.spearmanr(observations)\n",
    "print(corr)\n",
    "print(p_vals)"
   ]
  },
  {
   "cell_type": "code",
   "execution_count": 44,
   "metadata": {},
   "outputs": [
    {
     "data": {
      "image/png": "[encoded data removed]",
      "text/plain": [
       "<Figure size 432x288 with 2 Axes>"
      ]
     },
     "metadata": {
      "needs_background": "light"
     },
     "output_type": "display_data"
    }
   ],
   "source": [
    "import matplotlib.pyplot as plt\n",
    "import seaborn as sns\n",
    "\n",
    "sns.heatmap(corr, annot=p_vals)\n",
    "plt.show()"
   ]
  },
  {
   "cell_type": "code",
   "execution_count": 45,
   "metadata": {},
   "outputs": [
    {
     "data": {
      "text/html": [
       "<pre style=\"white-space:pre;overflow-x:auto;line-height:normal;font-family:Menlo,'DejaVu Sans Mono',consolas,'Courier New',monospace\"><span style=\"font-weight: bold\">[[</span><span style=\"color: #008080; text-decoration-color: #008080; font-weight: bold\">0</span>.         <span style=\"color: #008080; text-decoration-color: #008080; font-weight: bold\">0.02279379</span> <span style=\"color: #008080; text-decoration-color: #008080; font-weight: bold\">0.46748645</span><span style=\"font-weight: bold\">]</span>\n",
       " <span style=\"font-weight: bold\">[</span><span style=\"color: #008080; text-decoration-color: #008080; font-weight: bold\">0.02279379</span> <span style=\"color: #008080; text-decoration-color: #008080; font-weight: bold\">0</span>.         <span style=\"color: #008080; text-decoration-color: #008080; font-weight: bold\">0.00646869</span><span style=\"font-weight: bold\">]</span>\n",
       " <span style=\"font-weight: bold\">[</span><span style=\"color: #008080; text-decoration-color: #008080; font-weight: bold\">0.46748645</span> <span style=\"color: #008080; text-decoration-color: #008080; font-weight: bold\">0.00646869</span> <span style=\"color: #008080; text-decoration-color: #008080; font-weight: bold\">0</span>.        <span style=\"font-weight: bold\">]]</span>\n",
       "</pre>\n"
      ],
      "text/plain": [
       "\u001b[1m[\u001b[0m\u001b[1m[\u001b[0m\u001b[1;36m0\u001b[0m.         \u001b[1;36m0.02279379\u001b[0m \u001b[1;36m0.46748645\u001b[0m\u001b[1m]\u001b[0m\n",
       " \u001b[1m[\u001b[0m\u001b[1;36m0.02279379\u001b[0m \u001b[1;36m0\u001b[0m.         \u001b[1;36m0.00646869\u001b[0m\u001b[1m]\u001b[0m\n",
       " \u001b[1m[\u001b[0m\u001b[1;36m0.46748645\u001b[0m \u001b[1;36m0.00646869\u001b[0m \u001b[1;36m0\u001b[0m.        \u001b[1m]\u001b[0m\u001b[1m]\u001b[0m\n"
      ]
     },
     "metadata": {},
     "output_type": "display_data"
    },
    {
     "data": {
      "text/html": [
       "<pre style=\"white-space:pre;overflow-x:auto;line-height:normal;font-family:Menlo,'DejaVu Sans Mono',consolas,'Courier New',monospace\"><span style=\"font-weight: bold\">[[</span> <span style=\"color: #00ff00; text-decoration-color: #00ff00; font-style: italic\">True</span>  <span style=\"color: #00ff00; text-decoration-color: #00ff00; font-style: italic\">True</span> <span style=\"color: #ff0000; text-decoration-color: #ff0000; font-style: italic\">False</span><span style=\"font-weight: bold\">]</span>\n",
       " <span style=\"font-weight: bold\">[</span> <span style=\"color: #00ff00; text-decoration-color: #00ff00; font-style: italic\">True</span>  <span style=\"color: #00ff00; text-decoration-color: #00ff00; font-style: italic\">True</span>  <span style=\"color: #00ff00; text-decoration-color: #00ff00; font-style: italic\">True</span><span style=\"font-weight: bold\">]</span>\n",
       " <span style=\"font-weight: bold\">[</span><span style=\"color: #ff0000; text-decoration-color: #ff0000; font-style: italic\">False</span>  <span style=\"color: #00ff00; text-decoration-color: #00ff00; font-style: italic\">True</span>  <span style=\"color: #00ff00; text-decoration-color: #00ff00; font-style: italic\">True</span><span style=\"font-weight: bold\">]]</span>\n",
       "</pre>\n"
      ],
      "text/plain": [
       "\u001b[1m[\u001b[0m\u001b[1m[\u001b[0m \u001b[3;92mTrue\u001b[0m  \u001b[3;92mTrue\u001b[0m \u001b[3;91mFalse\u001b[0m\u001b[1m]\u001b[0m\n",
       " \u001b[1m[\u001b[0m \u001b[3;92mTrue\u001b[0m  \u001b[3;92mTrue\u001b[0m  \u001b[3;92mTrue\u001b[0m\u001b[1m]\u001b[0m\n",
       " \u001b[1m[\u001b[0m\u001b[3;91mFalse\u001b[0m  \u001b[3;92mTrue\u001b[0m  \u001b[3;92mTrue\u001b[0m\u001b[1m]\u001b[0m\u001b[1m]\u001b[0m\n"
      ]
     },
     "metadata": {},
     "output_type": "display_data"
    },
    {
     "data": {
      "text/html": [
       "<pre style=\"white-space:pre;overflow-x:auto;line-height:normal;font-family:Menlo,'DejaVu Sans Mono',consolas,'Courier New',monospace\"><span style=\"font-weight: bold\">[[</span> <span style=\"color: #00ff00; text-decoration-color: #00ff00; font-style: italic\">True</span> <span style=\"color: #ff0000; text-decoration-color: #ff0000; font-style: italic\">False</span> <span style=\"color: #ff0000; text-decoration-color: #ff0000; font-style: italic\">False</span><span style=\"font-weight: bold\">]</span>\n",
       " <span style=\"font-weight: bold\">[</span><span style=\"color: #ff0000; text-decoration-color: #ff0000; font-style: italic\">False</span>  <span style=\"color: #00ff00; text-decoration-color: #00ff00; font-style: italic\">True</span>  <span style=\"color: #00ff00; text-decoration-color: #00ff00; font-style: italic\">True</span><span style=\"font-weight: bold\">]</span>\n",
       " <span style=\"font-weight: bold\">[</span><span style=\"color: #ff0000; text-decoration-color: #ff0000; font-style: italic\">False</span>  <span style=\"color: #00ff00; text-decoration-color: #00ff00; font-style: italic\">True</span>  <span style=\"color: #00ff00; text-decoration-color: #00ff00; font-style: italic\">True</span><span style=\"font-weight: bold\">]]</span>\n",
       "</pre>\n"
      ],
      "text/plain": [
       "\u001b[1m[\u001b[0m\u001b[1m[\u001b[0m \u001b[3;92mTrue\u001b[0m \u001b[3;91mFalse\u001b[0m \u001b[3;91mFalse\u001b[0m\u001b[1m]\u001b[0m\n",
       " \u001b[1m[\u001b[0m\u001b[3;91mFalse\u001b[0m  \u001b[3;92mTrue\u001b[0m  \u001b[3;92mTrue\u001b[0m\u001b[1m]\u001b[0m\n",
       " \u001b[1m[\u001b[0m\u001b[3;91mFalse\u001b[0m  \u001b[3;92mTrue\u001b[0m  \u001b[3;92mTrue\u001b[0m\u001b[1m]\u001b[0m\u001b[1m]\u001b[0m\n"
      ]
     },
     "metadata": {},
     "output_type": "display_data"
    },
    {
     "data": {
      "text/html": [
       "<pre style=\"white-space:pre;overflow-x:auto;line-height:normal;font-family:Menlo,'DejaVu Sans Mono',consolas,'Courier New',monospace\"><span style=\"font-weight: bold\">[[</span> <span style=\"color: #00ff00; text-decoration-color: #00ff00; font-style: italic\">True</span> <span style=\"color: #ff0000; text-decoration-color: #ff0000; font-style: italic\">False</span> <span style=\"color: #ff0000; text-decoration-color: #ff0000; font-style: italic\">False</span><span style=\"font-weight: bold\">]</span>\n",
       " <span style=\"font-weight: bold\">[</span><span style=\"color: #ff0000; text-decoration-color: #ff0000; font-style: italic\">False</span>  <span style=\"color: #00ff00; text-decoration-color: #00ff00; font-style: italic\">True</span> <span style=\"color: #ff0000; text-decoration-color: #ff0000; font-style: italic\">False</span><span style=\"font-weight: bold\">]</span>\n",
       " <span style=\"font-weight: bold\">[</span><span style=\"color: #ff0000; text-decoration-color: #ff0000; font-style: italic\">False</span> <span style=\"color: #ff0000; text-decoration-color: #ff0000; font-style: italic\">False</span>  <span style=\"color: #00ff00; text-decoration-color: #00ff00; font-style: italic\">True</span><span style=\"font-weight: bold\">]]</span>\n",
       "</pre>\n"
      ],
      "text/plain": [
       "\u001b[1m[\u001b[0m\u001b[1m[\u001b[0m \u001b[3;92mTrue\u001b[0m \u001b[3;91mFalse\u001b[0m \u001b[3;91mFalse\u001b[0m\u001b[1m]\u001b[0m\n",
       " \u001b[1m[\u001b[0m\u001b[3;91mFalse\u001b[0m  \u001b[3;92mTrue\u001b[0m \u001b[3;91mFalse\u001b[0m\u001b[1m]\u001b[0m\n",
       " \u001b[1m[\u001b[0m\u001b[3;91mFalse\u001b[0m \u001b[3;91mFalse\u001b[0m  \u001b[3;92mTrue\u001b[0m\u001b[1m]\u001b[0m\u001b[1m]\u001b[0m\n"
      ]
     },
     "metadata": {},
     "output_type": "display_data"
    },
    {
     "data": {
      "text/html": [
       "<pre style=\"white-space:pre;overflow-x:auto;line-height:normal;font-family:Menlo,'DejaVu Sans Mono',consolas,'Courier New',monospace\"><span style=\"font-weight: bold\">[[</span> <span style=\"color: #00ff00; text-decoration-color: #00ff00; font-style: italic\">True</span> <span style=\"color: #ff0000; text-decoration-color: #ff0000; font-style: italic\">False</span> <span style=\"color: #ff0000; text-decoration-color: #ff0000; font-style: italic\">False</span><span style=\"font-weight: bold\">]</span>\n",
       " <span style=\"font-weight: bold\">[</span><span style=\"color: #ff0000; text-decoration-color: #ff0000; font-style: italic\">False</span>  <span style=\"color: #00ff00; text-decoration-color: #00ff00; font-style: italic\">True</span> <span style=\"color: #ff0000; text-decoration-color: #ff0000; font-style: italic\">False</span><span style=\"font-weight: bold\">]</span>\n",
       " <span style=\"font-weight: bold\">[</span><span style=\"color: #ff0000; text-decoration-color: #ff0000; font-style: italic\">False</span> <span style=\"color: #ff0000; text-decoration-color: #ff0000; font-style: italic\">False</span>  <span style=\"color: #00ff00; text-decoration-color: #00ff00; font-style: italic\">True</span><span style=\"font-weight: bold\">]]</span>\n",
       "</pre>\n"
      ],
      "text/plain": [
       "\u001b[1m[\u001b[0m\u001b[1m[\u001b[0m \u001b[3;92mTrue\u001b[0m \u001b[3;91mFalse\u001b[0m \u001b[3;91mFalse\u001b[0m\u001b[1m]\u001b[0m\n",
       " \u001b[1m[\u001b[0m\u001b[3;91mFalse\u001b[0m  \u001b[3;92mTrue\u001b[0m \u001b[3;91mFalse\u001b[0m\u001b[1m]\u001b[0m\n",
       " \u001b[1m[\u001b[0m\u001b[3;91mFalse\u001b[0m \u001b[3;91mFalse\u001b[0m  \u001b[3;92mTrue\u001b[0m\u001b[1m]\u001b[0m\u001b[1m]\u001b[0m\n"
      ]
     },
     "metadata": {},
     "output_type": "display_data"
    }
   ],
   "source": [
    "print(p_vals)\n",
    "print(p_vals < 0.05)\n",
    "print(p_vals < 0.01)\n",
    "print(p_vals < 0.001)\n",
    "print(p_vals < 0.0001)"
   ]
  },
  {
   "cell_type": "code",
   "execution_count": 28,
   "metadata": {},
   "outputs": [
    {
     "data": {
      "text/plain": [
       "0.010152284263959378"
      ]
     },
     "execution_count": 28,
     "metadata": {},
     "output_type": "execute_result"
    }
   ],
   "source": [
    "arr, categories = irr.aggregate_raters(observations)\n",
    "irr.fleiss_kappa(arr)\n"
   ]
  }
 ],
 "metadata": {
  "kernelspec": {
   "display_name": "perspredict",
   "language": "python",
   "name": "python3"
  },
  "language_info": {
   "codemirror_mode": {
    "name": "ipython",
    "version": 3
   },
   "file_extension": ".py",
   "mimetype": "text/x-python",
   "name": "python",
   "nbconvert_exporter": "python",
   "pygments_lexer": "ipython3",
   "version": "3.9.7"
  },
  "orig_nbformat": 4,
  "vscode": {
   "interpreter": {
    "hash": "7f9fc4bb09b96ccdef8201cda01aaceb2fd9113306e9cef85e4da40d6d85aa0b"
   }
  }
 },
 "nbformat": 4,
 "nbformat_minor": 2
}
